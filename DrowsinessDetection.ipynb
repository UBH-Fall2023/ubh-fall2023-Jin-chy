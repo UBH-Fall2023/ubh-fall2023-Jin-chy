{
 "cells": [
  {
   "cell_type": "code",
   "execution_count": 13,
   "id": "1619819d",
   "metadata": {},
   "outputs": [],
   "source": [
    "import tensorflow as tf\n",
    "from tensorflow import keras\n",
    "from keras.preprocessing.image import ImageDataGenerator\n",
    "from sklearn.metrics import precision_score, recall_score\n",
    "from sklearn.metrics import confusion_matrix, classification_report\n",
    "from keras.optimizers.legacy import Adam\n",
    "import os"
   ]
  },
  {
   "cell_type": "code",
   "execution_count": null,
   "id": "b7688f01",
   "metadata": {},
   "outputs": [],
   "source": []
  },
  {
   "cell_type": "code",
   "execution_count": 14,
   "id": "5631dd5d",
   "metadata": {},
   "outputs": [],
   "source": [
    "train_data_dir = \"./data/train\"\n",
    "test_data_dir = \"./data/test\"\n",
    "\n",
    "image_size = (224, 224)\n",
    "batch_size = 32\n",
    "\n",
    "train_datagen = ImageDataGenerator(\n",
    "    rescale=1.0 / 255.0,\n",
    "    width_shift_range=0.1,\n",
    "    height_shift_range=0.1,\n",
    "    validation_split=0.2\n",
    ")"
   ]
  },
  {
   "cell_type": "code",
   "execution_count": null,
   "id": "397c44ff",
   "metadata": {},
   "outputs": [],
   "source": []
  },
  {
   "cell_type": "code",
   "execution_count": 15,
   "id": "335ea91a",
   "metadata": {},
   "outputs": [
    {
     "name": "stdout",
     "output_type": "stream",
     "text": [
      "Found 317 images belonging to 2 classes.\n"
     ]
    }
   ],
   "source": [
    "train_generator = train_datagen.flow_from_directory(\n",
    "    train_data_dir,\n",
    "    target_size=image_size,\n",
    "    batch_size=batch_size,\n",
    "    class_mode='categorical',\n",
    "    subset='training',\n",
    "    shuffle=True\n",
    ")\n"
   ]
  },
  {
   "cell_type": "code",
   "execution_count": null,
   "id": "11294344",
   "metadata": {},
   "outputs": [],
   "source": []
  },
  {
   "cell_type": "code",
   "execution_count": 16,
   "id": "34a8d244",
   "metadata": {},
   "outputs": [
    {
     "name": "stdout",
     "output_type": "stream",
     "text": [
      "Found 78 images belonging to 2 classes.\n"
     ]
    }
   ],
   "source": [
    "validation_generator = train_datagen.flow_from_directory(\n",
    "    train_data_dir,\n",
    "    target_size=image_size,\n",
    "    batch_size=batch_size,\n",
    "    class_mode='categorical',\n",
    "    subset='validation',\n",
    "    shuffle=True\n",
    ")"
   ]
  },
  {
   "cell_type": "code",
   "execution_count": null,
   "id": "2006088e",
   "metadata": {},
   "outputs": [],
   "source": []
  },
  {
   "cell_type": "code",
   "execution_count": 17,
   "id": "73214a32",
   "metadata": {},
   "outputs": [],
   "source": [
    "def calculate_metrics(y_true, y_pred):\n",
    "    precision = precision_score(y_true, y_pred, average='weighted')\n",
    "    recall = recall_score(y_true, y_pred, average='weighted')\n",
    "    return precision, recall\n",
    "\n",
    "\n",
    "model = keras.Sequential([\n",
    "    keras.layers.Conv2D(32, (3, 3), activation='relu', input_shape=(224, 224, 3)),\n",
    "    keras.layers.MaxPooling2D(2, 2),\n",
    "    keras.layers.Conv2D(32, (3, 3), activation='relu'),\n",
    "    keras.layers.MaxPooling2D(2, 2),\n",
    "    keras.layers.Flatten(),\n",
    "    keras.layers.Dense(128, activation='relu'),\n",
    "    keras.layers.Dense(2, activation='softmax')\n",
    "])\n",
    "model.compile(optimizer='adam', loss='binary_crossentropy', metrics=['accuracy'])"
   ]
  },
  {
   "cell_type": "code",
   "execution_count": 18,
   "id": "b23e1c30",
   "metadata": {},
   "outputs": [],
   "source": [
    "train_losses = []\n",
    "train_accuracies = []\n",
    "val_losses = []\n",
    "val_accuracies = []\n",
    "\n",
    "class MetricsCallback(keras.callbacks.Callback):\n",
    "    def on_epoch_end(self, epoch, logs=None):\n",
    "        print(\n",
    "            f'Epoch {epoch + 1} | Train Loss: {logs[\"loss\"]:.4f}  - Train Accuracy: {logs[\"accuracy\"]:.4f} | Validation Loss: {logs[\"val_loss\"]:.4f} - Validation Accuracy: {logs[\"val_accuracy\"]:.4f} ')\n",
    "        train_losses.append(logs['loss'])\n",
    "        train_accuracies.append(logs['accuracy'])\n",
    "        val_losses.append(logs['val_loss'])\n",
    "        val_accuracies.append(logs['val_accuracy'])\n",
    "\n",
    "metrics_callback = MetricsCallback()"
   ]
  },
  {
   "cell_type": "code",
   "execution_count": 19,
   "id": "d25c7be9",
   "metadata": {},
   "outputs": [
    {
     "name": "stdout",
     "output_type": "stream",
     "text": [
      "Epoch 1/10\n",
      "9/9 [==============================] - ETA: 0s - loss: 0.7940 - accuracy: 0.7649Epoch 1 | Train Loss: 0.7940  - Train Accuracy: 0.7649 | Validation Loss: 0.7662 - Validation Accuracy: 0.7656 \n",
      "9/9 [==============================] - 9s 929ms/step - loss: 0.7940 - accuracy: 0.7649 - val_loss: 0.7662 - val_accuracy: 0.7656\n",
      "Epoch 2/10\n",
      "9/9 [==============================] - ETA: 0s - loss: 0.1777 - accuracy: 0.9439Epoch 2 | Train Loss: 0.1777  - Train Accuracy: 0.9439 | Validation Loss: 1.2625 - Validation Accuracy: 0.7812 \n",
      "9/9 [==============================] - 8s 862ms/step - loss: 0.1777 - accuracy: 0.9439 - val_loss: 1.2625 - val_accuracy: 0.7812\n",
      "Epoch 3/10\n",
      "9/9 [==============================] - ETA: 0s - loss: 0.0728 - accuracy: 0.9860Epoch 3 | Train Loss: 0.0728  - Train Accuracy: 0.9860 | Validation Loss: 1.1012 - Validation Accuracy: 0.7656 \n",
      "9/9 [==============================] - 7s 813ms/step - loss: 0.0728 - accuracy: 0.9860 - val_loss: 1.1012 - val_accuracy: 0.7656\n",
      "Epoch 4/10\n",
      "9/9 [==============================] - ETA: 0s - loss: 0.0230 - accuracy: 0.9965Epoch 4 | Train Loss: 0.0230  - Train Accuracy: 0.9965 | Validation Loss: 1.4965 - Validation Accuracy: 0.7500 \n",
      "9/9 [==============================] - 7s 805ms/step - loss: 0.0230 - accuracy: 0.9965 - val_loss: 1.4965 - val_accuracy: 0.7500\n",
      "Epoch 5/10\n",
      "9/9 [==============================] - ETA: 0s - loss: 0.0214 - accuracy: 0.9930Epoch 5 | Train Loss: 0.0214  - Train Accuracy: 0.9930 | Validation Loss: 2.0850 - Validation Accuracy: 0.7656 \n",
      "9/9 [==============================] - 7s 819ms/step - loss: 0.0214 - accuracy: 0.9930 - val_loss: 2.0850 - val_accuracy: 0.7656\n",
      "Epoch 6/10\n",
      "9/9 [==============================] - ETA: 0s - loss: 0.0156 - accuracy: 0.9930Epoch 6 | Train Loss: 0.0156  - Train Accuracy: 0.9930 | Validation Loss: 1.0069 - Validation Accuracy: 0.8438 \n",
      "9/9 [==============================] - 7s 830ms/step - loss: 0.0156 - accuracy: 0.9930 - val_loss: 1.0069 - val_accuracy: 0.8438\n",
      "Epoch 7/10\n",
      "9/9 [==============================] - ETA: 0s - loss: 0.0075 - accuracy: 1.0000Epoch 7 | Train Loss: 0.0075  - Train Accuracy: 1.0000 | Validation Loss: 1.7599 - Validation Accuracy: 0.7656 \n",
      "9/9 [==============================] - 8s 818ms/step - loss: 0.0075 - accuracy: 1.0000 - val_loss: 1.7599 - val_accuracy: 0.7656\n",
      "Epoch 8/10\n",
      "9/9 [==============================] - ETA: 0s - loss: 0.0340 - accuracy: 0.9930Epoch 8 | Train Loss: 0.0340  - Train Accuracy: 0.9930 | Validation Loss: 3.4131 - Validation Accuracy: 0.8125 \n",
      "9/9 [==============================] - 7s 795ms/step - loss: 0.0340 - accuracy: 0.9930 - val_loss: 3.4131 - val_accuracy: 0.8125\n",
      "Epoch 9/10\n",
      "9/9 [==============================] - ETA: 0s - loss: 0.0713 - accuracy: 0.9826Epoch 9 | Train Loss: 0.0713  - Train Accuracy: 0.9826 | Validation Loss: 2.5680 - Validation Accuracy: 0.7656 \n",
      "9/9 [==============================] - 7s 779ms/step - loss: 0.0713 - accuracy: 0.9826 - val_loss: 2.5680 - val_accuracy: 0.7656\n",
      "Epoch 10/10\n",
      "9/9 [==============================] - ETA: 0s - loss: 0.0140 - accuracy: 0.9930Epoch 10 | Train Loss: 0.0140  - Train Accuracy: 0.9930 | Validation Loss: 1.6800 - Validation Accuracy: 0.7812 \n",
      "9/9 [==============================] - 7s 780ms/step - loss: 0.0140 - accuracy: 0.9930 - val_loss: 1.6800 - val_accuracy: 0.7812\n"
     ]
    }
   ],
   "source": [
    "history= model.fit(\n",
    "    train_generator,\n",
    "    steps_per_epoch=train_generator.samples // batch_size,\n",
    "    epochs=10,\n",
    "    validation_data=validation_generator,\n",
    "    validation_steps=validation_generator.samples // batch_size,\n",
    "    callbacks=[metrics_callback]\n",
    ")"
   ]
  },
  {
   "cell_type": "code",
   "execution_count": 20,
   "id": "334ae6b4",
   "metadata": {},
   "outputs": [
    {
     "name": "stdout",
     "output_type": "stream",
     "text": [
      "Average Training Loss: 0.1231\n",
      "Average Training Accuracy: 0.9646\n",
      "Average Validation Loss: 1.7139\n",
      "Average Validation Accuracy: 0.7797\n"
     ]
    }
   ],
   "source": [
    "avg_train_loss = sum(train_losses) / len(train_losses)\n",
    "avg_train_accuracy = sum(train_accuracies) / len(train_accuracies)\n",
    "avg_val_loss = sum(val_losses) / len(val_losses)\n",
    "avg_val_accuracy = sum(val_accuracies) / len(val_accuracies)\n",
    "\n",
    "print(f'Average Training Loss: {avg_train_loss:.4f}')\n",
    "print(f'Average Training Accuracy: {avg_train_accuracy:.4f}')\n",
    "print(f'Average Validation Loss: {avg_val_loss:.4f}')\n",
    "print(f'Average Validation Accuracy: {avg_val_accuracy:.4f}')"
   ]
  },
  {
   "cell_type": "code",
   "execution_count": 21,
   "id": "cba2e805",
   "metadata": {},
   "outputs": [],
   "source": [
    "model.save(\"drowsiness_detection_model.h5\")"
   ]
  },
  {
   "cell_type": "code",
   "execution_count": 22,
   "id": "2e50969f",
   "metadata": {},
   "outputs": [
    {
     "name": "stdout",
     "output_type": "stream",
     "text": [
      "Found 146 images belonging to 2 classes.\n"
     ]
    }
   ],
   "source": [
    "test_datagen = ImageDataGenerator(rescale=1.0 / 255.0)\n",
    "test_generator = test_datagen.flow_from_directory(\n",
    "    test_data_dir,\n",
    "    target_size=image_size,\n",
    "    batch_size=batch_size,\n",
    "    class_mode='categorical'\n",
    ")"
   ]
  },
  {
   "cell_type": "code",
   "execution_count": 33,
   "id": "15817bec",
   "metadata": {},
   "outputs": [
    {
     "name": "stdout",
     "output_type": "stream",
     "text": [
      "5/5 [==============================] - 1s 112ms/step\n",
      "Image 1 - True Label: DROWSY, Predicted Label: NOT DROWSY,  Confidence Drowsy: 0.00, Confidence Not Drowsy: 1.00\n",
      "Image 2 - True Label: DROWSY, Predicted Label: DROWSY,  Confidence Drowsy: 1.00, Confidence Not Drowsy: 0.00\n",
      "Image 3 - True Label: DROWSY, Predicted Label: NOT DROWSY,  Confidence Drowsy: 0.00, Confidence Not Drowsy: 1.00\n",
      "Image 4 - True Label: DROWSY, Predicted Label: NOT DROWSY,  Confidence Drowsy: 0.01, Confidence Not Drowsy: 0.99\n",
      "Image 5 - True Label: DROWSY, Predicted Label: DROWSY,  Confidence Drowsy: 1.00, Confidence Not Drowsy: 0.00\n",
      "Image 6 - True Label: DROWSY, Predicted Label: DROWSY,  Confidence Drowsy: 1.00, Confidence Not Drowsy: 0.00\n",
      "Image 7 - True Label: DROWSY, Predicted Label: NOT DROWSY,  Confidence Drowsy: 0.01, Confidence Not Drowsy: 0.99\n",
      "Image 8 - True Label: DROWSY, Predicted Label: NOT DROWSY,  Confidence Drowsy: 0.00, Confidence Not Drowsy: 1.00\n",
      "Image 9 - True Label: DROWSY, Predicted Label: DROWSY,  Confidence Drowsy: 1.00, Confidence Not Drowsy: 0.00\n",
      "Image 10 - True Label: DROWSY, Predicted Label: NOT DROWSY,  Confidence Drowsy: 0.00, Confidence Not Drowsy: 1.00\n",
      "Image 11 - True Label: DROWSY, Predicted Label: NOT DROWSY,  Confidence Drowsy: 0.01, Confidence Not Drowsy: 0.99\n",
      "Image 12 - True Label: DROWSY, Predicted Label: NOT DROWSY,  Confidence Drowsy: 0.00, Confidence Not Drowsy: 1.00\n",
      "Image 13 - True Label: DROWSY, Predicted Label: DROWSY,  Confidence Drowsy: 1.00, Confidence Not Drowsy: 0.00\n",
      "Image 14 - True Label: DROWSY, Predicted Label: NOT DROWSY,  Confidence Drowsy: 0.00, Confidence Not Drowsy: 1.00\n",
      "Image 15 - True Label: DROWSY, Predicted Label: NOT DROWSY,  Confidence Drowsy: 0.00, Confidence Not Drowsy: 1.00\n",
      "Image 16 - True Label: DROWSY, Predicted Label: NOT DROWSY,  Confidence Drowsy: 0.02, Confidence Not Drowsy: 0.98\n",
      "Image 17 - True Label: DROWSY, Predicted Label: DROWSY,  Confidence Drowsy: 1.00, Confidence Not Drowsy: 0.00\n",
      "Image 18 - True Label: DROWSY, Predicted Label: NOT DROWSY,  Confidence Drowsy: 0.01, Confidence Not Drowsy: 0.99\n",
      "Image 19 - True Label: DROWSY, Predicted Label: NOT DROWSY,  Confidence Drowsy: 0.02, Confidence Not Drowsy: 0.98\n",
      "Image 20 - True Label: DROWSY, Predicted Label: NOT DROWSY,  Confidence Drowsy: 0.00, Confidence Not Drowsy: 1.00\n",
      "Image 21 - True Label: DROWSY, Predicted Label: NOT DROWSY,  Confidence Drowsy: 0.01, Confidence Not Drowsy: 0.99\n",
      "Image 22 - True Label: DROWSY, Predicted Label: NOT DROWSY,  Confidence Drowsy: 0.01, Confidence Not Drowsy: 0.99\n",
      "Image 23 - True Label: DROWSY, Predicted Label: NOT DROWSY,  Confidence Drowsy: 0.00, Confidence Not Drowsy: 1.00\n",
      "Image 24 - True Label: DROWSY, Predicted Label: NOT DROWSY,  Confidence Drowsy: 0.03, Confidence Not Drowsy: 0.97\n",
      "Image 25 - True Label: DROWSY, Predicted Label: NOT DROWSY,  Confidence Drowsy: 0.01, Confidence Not Drowsy: 0.99\n",
      "Image 26 - True Label: DROWSY, Predicted Label: NOT DROWSY,  Confidence Drowsy: 0.01, Confidence Not Drowsy: 0.99\n",
      "Image 27 - True Label: DROWSY, Predicted Label: DROWSY,  Confidence Drowsy: 1.00, Confidence Not Drowsy: 0.00\n",
      "Image 28 - True Label: DROWSY, Predicted Label: NOT DROWSY,  Confidence Drowsy: 0.01, Confidence Not Drowsy: 0.99\n",
      "Image 29 - True Label: DROWSY, Predicted Label: NOT DROWSY,  Confidence Drowsy: 0.01, Confidence Not Drowsy: 0.99\n",
      "Image 30 - True Label: DROWSY, Predicted Label: NOT DROWSY,  Confidence Drowsy: 0.01, Confidence Not Drowsy: 0.99\n",
      "Image 31 - True Label: DROWSY, Predicted Label: DROWSY,  Confidence Drowsy: 0.33, Confidence Not Drowsy: 0.67\n",
      "Image 32 - True Label: DROWSY, Predicted Label: DROWSY,  Confidence Drowsy: 1.00, Confidence Not Drowsy: 0.00\n",
      "Image 33 - True Label: DROWSY, Predicted Label: NOT DROWSY,  Confidence Drowsy: 0.00, Confidence Not Drowsy: 1.00\n"
     ]
    },
    {
     "ename": "TwilioRestException",
     "evalue": "HTTP 400 error: Unable to create record: A 'To' phone number is required.",
     "output_type": "error",
     "traceback": [
      "\u001b[0;31m---------------------------------------------------------------------------\u001b[0m",
      "\u001b[0;31mTwilioRestException\u001b[0m                       Traceback (most recent call last)",
      "\u001b[1;32m/Users/virajsutaria/Desktop/ubh-fall2023-Jin-chy/DrowsinessDetection.ipynb Cell 15\u001b[0m line \u001b[0;36m1\n\u001b[1;32m     <a href='vscode-notebook-cell:/Users/virajsutaria/Desktop/ubh-fall2023-Jin-chy/DrowsinessDetection.ipynb#X42sZmlsZQ%3D%3D?line=13'>14</a>\u001b[0m \u001b[39mif\u001b[39;00m count\u001b[39m==\u001b[39m\u001b[39m10\u001b[39m:\n\u001b[1;32m     <a href='vscode-notebook-cell:/Users/virajsutaria/Desktop/ubh-fall2023-Jin-chy/DrowsinessDetection.ipynb#X42sZmlsZQ%3D%3D?line=14'>15</a>\u001b[0m     client\u001b[39m=\u001b[39m Client(twilio_keys\u001b[39m.\u001b[39maccount_sid, twilio_keys\u001b[39m.\u001b[39mauth_token)\n\u001b[0;32m---> <a href='vscode-notebook-cell:/Users/virajsutaria/Desktop/ubh-fall2023-Jin-chy/DrowsinessDetection.ipynb#X42sZmlsZQ%3D%3D?line=15'>16</a>\u001b[0m     message \u001b[39m=\u001b[39m client\u001b[39m.\u001b[39;49mmessages\u001b[39m.\u001b[39;49mcreate(\n\u001b[1;32m     <a href='vscode-notebook-cell:/Users/virajsutaria/Desktop/ubh-fall2023-Jin-chy/DrowsinessDetection.ipynb#X42sZmlsZQ%3D%3D?line=16'>17</a>\u001b[0m         body\u001b[39m=\u001b[39;49m\u001b[39m\"\u001b[39;49m\u001b[39mHello World!!\u001b[39;49m\u001b[39m\"\u001b[39;49m,\n\u001b[1;32m     <a href='vscode-notebook-cell:/Users/virajsutaria/Desktop/ubh-fall2023-Jin-chy/DrowsinessDetection.ipynb#X42sZmlsZQ%3D%3D?line=17'>18</a>\u001b[0m         from_\u001b[39m=\u001b[39;49mtwilio_keys\u001b[39m.\u001b[39;49mtwilio_number,\n\u001b[1;32m     <a href='vscode-notebook-cell:/Users/virajsutaria/Desktop/ubh-fall2023-Jin-chy/DrowsinessDetection.ipynb#X42sZmlsZQ%3D%3D?line=18'>19</a>\u001b[0m         to\u001b[39m=\u001b[39;49m\u001b[39mstr\u001b[39;49m(twilio_keys\u001b[39m.\u001b[39;49mtarget_number)\n\u001b[1;32m     <a href='vscode-notebook-cell:/Users/virajsutaria/Desktop/ubh-fall2023-Jin-chy/DrowsinessDetection.ipynb#X42sZmlsZQ%3D%3D?line=19'>20</a>\u001b[0m     )\n\u001b[1;32m     <a href='vscode-notebook-cell:/Users/virajsutaria/Desktop/ubh-fall2023-Jin-chy/DrowsinessDetection.ipynb#X42sZmlsZQ%3D%3D?line=20'>21</a>\u001b[0m     \u001b[39mprint\u001b[39m(message\u001b[39m.\u001b[39mbody)\n\u001b[1;32m     <a href='vscode-notebook-cell:/Users/virajsutaria/Desktop/ubh-fall2023-Jin-chy/DrowsinessDetection.ipynb#X42sZmlsZQ%3D%3D?line=21'>22</a>\u001b[0m label \u001b[39m=\u001b[39m \u001b[39m\"\u001b[39m\u001b[39mDROWSY\u001b[39m\u001b[39m\"\u001b[39m \u001b[39mif\u001b[39;00m true_label \u001b[39m==\u001b[39m \u001b[39m0\u001b[39m \u001b[39melse\u001b[39;00m \u001b[39m\"\u001b[39m\u001b[39mNOT DROWSY\u001b[39m\u001b[39m\"\u001b[39m\n",
      "File \u001b[0;32m/Library/Frameworks/Python.framework/Versions/3.11/lib/python3.11/site-packages/twilio/rest/api/v2010/account/message/__init__.py:560\u001b[0m, in \u001b[0;36mMessageList.create\u001b[0;34m(self, to, status_callback, application_sid, max_price, provide_feedback, attempt, validity_period, force_delivery, content_retention, address_retention, smart_encoded, persistent_action, shorten_urls, schedule_type, send_at, send_as_mms, content_variables, risk_check, from_, messaging_service_sid, body, media_url, content_sid)\u001b[0m\n\u001b[1;32m    503\u001b[0m \u001b[39m\u001b[39m\u001b[39m\"\"\"\u001b[39;00m\n\u001b[1;32m    504\u001b[0m \u001b[39mCreate the MessageInstance\u001b[39;00m\n\u001b[1;32m    505\u001b[0m \n\u001b[0;32m   (...)\u001b[0m\n\u001b[1;32m    530\u001b[0m \u001b[39m:returns: The created MessageInstance\u001b[39;00m\n\u001b[1;32m    531\u001b[0m \u001b[39m\"\"\"\u001b[39;00m\n\u001b[1;32m    532\u001b[0m data \u001b[39m=\u001b[39m values\u001b[39m.\u001b[39mof(\n\u001b[1;32m    533\u001b[0m     {\n\u001b[1;32m    534\u001b[0m         \u001b[39m\"\u001b[39m\u001b[39mTo\u001b[39m\u001b[39m\"\u001b[39m: to,\n\u001b[0;32m   (...)\u001b[0m\n\u001b[1;32m    557\u001b[0m     }\n\u001b[1;32m    558\u001b[0m )\n\u001b[0;32m--> 560\u001b[0m payload \u001b[39m=\u001b[39m \u001b[39mself\u001b[39;49m\u001b[39m.\u001b[39;49m_version\u001b[39m.\u001b[39;49mcreate(\n\u001b[1;32m    561\u001b[0m     method\u001b[39m=\u001b[39;49m\u001b[39m\"\u001b[39;49m\u001b[39mPOST\u001b[39;49m\u001b[39m\"\u001b[39;49m,\n\u001b[1;32m    562\u001b[0m     uri\u001b[39m=\u001b[39;49m\u001b[39mself\u001b[39;49m\u001b[39m.\u001b[39;49m_uri,\n\u001b[1;32m    563\u001b[0m     data\u001b[39m=\u001b[39;49mdata,\n\u001b[1;32m    564\u001b[0m )\n\u001b[1;32m    566\u001b[0m \u001b[39mreturn\u001b[39;00m MessageInstance(\n\u001b[1;32m    567\u001b[0m     \u001b[39mself\u001b[39m\u001b[39m.\u001b[39m_version, payload, account_sid\u001b[39m=\u001b[39m\u001b[39mself\u001b[39m\u001b[39m.\u001b[39m_solution[\u001b[39m\"\u001b[39m\u001b[39maccount_sid\u001b[39m\u001b[39m\"\u001b[39m]\n\u001b[1;32m    568\u001b[0m )\n",
      "File \u001b[0;32m/Library/Frameworks/Python.framework/Versions/3.11/lib/python3.11/site-packages/twilio/base/version.py:465\u001b[0m, in \u001b[0;36mVersion.create\u001b[0;34m(self, method, uri, params, data, headers, auth, timeout, allow_redirects)\u001b[0m\n\u001b[1;32m    451\u001b[0m \u001b[39m\u001b[39m\u001b[39m\"\"\"\u001b[39;00m\n\u001b[1;32m    452\u001b[0m \u001b[39mCreate a resource instance.\u001b[39;00m\n\u001b[1;32m    453\u001b[0m \u001b[39m\"\"\"\u001b[39;00m\n\u001b[1;32m    454\u001b[0m response \u001b[39m=\u001b[39m \u001b[39mself\u001b[39m\u001b[39m.\u001b[39mrequest(\n\u001b[1;32m    455\u001b[0m     method,\n\u001b[1;32m    456\u001b[0m     uri,\n\u001b[0;32m   (...)\u001b[0m\n\u001b[1;32m    462\u001b[0m     allow_redirects\u001b[39m=\u001b[39mallow_redirects,\n\u001b[1;32m    463\u001b[0m )\n\u001b[0;32m--> 465\u001b[0m \u001b[39mreturn\u001b[39;00m \u001b[39mself\u001b[39;49m\u001b[39m.\u001b[39;49m_parse_create(method, uri, response)\n",
      "File \u001b[0;32m/Library/Frameworks/Python.framework/Versions/3.11/lib/python3.11/site-packages/twilio/base/version.py:436\u001b[0m, in \u001b[0;36mVersion._parse_create\u001b[0;34m(self, method, uri, response)\u001b[0m\n\u001b[1;32m    432\u001b[0m \u001b[39m\u001b[39m\u001b[39m\"\"\"\u001b[39;00m\n\u001b[1;32m    433\u001b[0m \u001b[39mParse create response JSON\u001b[39;00m\n\u001b[1;32m    434\u001b[0m \u001b[39m\"\"\"\u001b[39;00m\n\u001b[1;32m    435\u001b[0m \u001b[39mif\u001b[39;00m response\u001b[39m.\u001b[39mstatus_code \u001b[39m<\u001b[39m \u001b[39m200\u001b[39m \u001b[39mor\u001b[39;00m response\u001b[39m.\u001b[39mstatus_code \u001b[39m>\u001b[39m\u001b[39m=\u001b[39m \u001b[39m300\u001b[39m:\n\u001b[0;32m--> 436\u001b[0m     \u001b[39mraise\u001b[39;00m \u001b[39mself\u001b[39m\u001b[39m.\u001b[39mexception(method, uri, response, \u001b[39m\"\u001b[39m\u001b[39mUnable to create record\u001b[39m\u001b[39m\"\u001b[39m)\n\u001b[1;32m    438\u001b[0m \u001b[39mreturn\u001b[39;00m json\u001b[39m.\u001b[39mloads(response\u001b[39m.\u001b[39mtext)\n",
      "\u001b[0;31mTwilioRestException\u001b[0m: HTTP 400 error: Unable to create record: A 'To' phone number is required."
     ]
    }
   ],
   "source": [
    "from sklearn.metrics import log_loss\n",
    "true_labels = test_generator.classes\n",
    "predictions = model.predict(test_generator)\n",
    "from twilio.rest import Client\n",
    "import twilio_keys\n",
    "\n",
    "count=0\n",
    "for i, (prediction, true_label) in enumerate(zip(predictions, true_labels)):\n",
    "    confidence_drowsy = prediction[0]\n",
    "    confidence_not_drowsy = prediction[1]\n",
    "    predicted_label = \"DROWSY\" if confidence_drowsy >= 0.3 else \"NOT DROWSY\"\n",
    "    if predicted_label == \"DROWSY\":\n",
    "        count+=1\n",
    "    if count==10:\n",
    "        client= Client(twilio_keys.account_sid, twilio_keys.auth_token)\n",
    "        message = client.messages.create(\n",
    "            body=\"Hello World!!\",\n",
    "            from_=twilio_keys.twilio_number,\n",
    "            to='+15166369039'\n",
    "        )\n",
    "        print(message.body)\n",
    "    label = \"DROWSY\" if true_label == 0 else \"NOT DROWSY\"\n",
    "    print(\n",
    "        f\"Image {i + 1} - True Label: {label}, Predicted Label: {predicted_label},  Confidence Drowsy: {confidence_drowsy:.2f}, Confidence Not Drowsy: {confidence_not_drowsy:.2f}\")\n",
    "\n",
    "predicted_labels = (predictions[:, 1] > 0.3).astype(int)\n",
    "correct_predictions = (predicted_labels == true_labels)\n",
    "accuracy = correct_predictions.sum() / len(true_labels)\n",
    "\n",
    "\n",
    "test_classification_report = classification_report(true_labels, predicted_labels)\n",
    "test_confusion_matrix = confusion_matrix(true_labels, predicted_labels)\n",
    "\n",
    "true_positives = test_confusion_matrix[1, 1]  # The count of true positives\n",
    "false_positives = test_confusion_matrix[0, 1]  # The count of false positives\n",
    "false_negatives = test_confusion_matrix[1, 0]  # The count of false negatives\n",
    "\n",
    "precision = true_positives / (true_positives + false_positives)\n",
    "recall = true_positives / (true_positives + false_negatives)\n",
    "\n",
    "\n",
    "print(\"\\nTest Confusion Matrix:\")\n",
    "print(test_confusion_matrix)\n",
    "\n",
    "print(\"\\nTest Classification Report:\")\n",
    "print(test_classification_report)\n",
    "\n",
    "# Print the accuracy\n",
    "print(f\"Test Accuracy: {accuracy:.4f}\")\n",
    "test_loss = log_loss(true_labels, predictions)\n",
    "print(f\"Test Loss: {test_loss:.4f}\")\n",
    "\n",
    "print(\"Test Precision:\", precision)\n",
    "print(\"Test Recall:\", recall)"
   ]
  }
 ],
 "metadata": {
  "kernelspec": {
   "display_name": "Python 3",
   "language": "python",
   "name": "python3"
  },
  "language_info": {
   "codemirror_mode": {
    "name": "ipython",
    "version": 3
   },
   "file_extension": ".py",
   "mimetype": "text/x-python",
   "name": "python",
   "nbconvert_exporter": "python",
   "pygments_lexer": "ipython3",
   "version": "3.11.5"
  }
 },
 "nbformat": 4,
 "nbformat_minor": 5
}
