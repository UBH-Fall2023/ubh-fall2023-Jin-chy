{
 "cells": [
  {
   "cell_type": "code",
   "execution_count": null,
   "id": "initial_id",
   "metadata": {
    "collapsed": true
   },
   "outputs": [],
   "source": [
    "import tensorflow as tf\n",
    "from tensorflow import keras\n",
    "from keras.preprocessing.image import ImageDataGenerator\n",
    "from sklearn.metrics import precision_score, recall_score\n",
    "from sklearn.metrics import confusion_matrix, classification_report\n",
    "from keras.optimizers.legacy import Adam\n",
    "import os"
   ]
  },
  {
   "cell_type": "code",
   "execution_count": null,
   "outputs": [],
   "source": [],
   "metadata": {
    "collapsed": false
   }
  },
  {
   "cell_type": "code",
   "execution_count": null,
   "outputs": [],
   "source": [
    "train_data_dir = \"./data/train\"\n",
    "test_data_dir = \"./data/test\"\n",
    "\n",
    "image_size = (224, 224)\n",
    "batch_size = 32\n",
    "\n",
    "train_datagen = ImageDataGenerator(\n",
    "    rescale=1.0 / 255.0,\n",
    "    rotation_range=15,\n",
    "    width_shift_range=0.1,\n",
    "    height_shift_range=0.1,\n",
    "    horizontal_flip=True,\n",
    "    zoom_range=0.1,\n",
    "    validation_split=0.2\n",
    ")"
   ],
   "metadata": {
    "collapsed": false
   }
  },
  {
   "cell_type": "code",
   "execution_count": null,
   "outputs": [],
   "source": [],
   "metadata": {
    "collapsed": false
   }
  },
  {
   "cell_type": "code",
   "execution_count": null,
   "outputs": [],
   "source": [
    "train_generator = train_datagen.flow_from_directory(\n",
    "    train_data_dir,\n",
    "    target_size=image_size,\n",
    "    batch_size=batch_size,\n",
    "    class_mode='categorical',\n",
    "    subset='training',\n",
    "    shuffle=True\n",
    ")"
   ],
   "metadata": {
    "collapsed": false
   },
   "id": "6decff868951fe33"
  },
  {
   "cell_type": "code",
   "execution_count": null,
   "outputs": [],
   "source": [
    "validation_generator = train_datagen.flow_from_directory(\n",
    "    train_data_dir,\n",
    "    target_size=image_size,\n",
    "    batch_size=batch_size,\n",
    "    class_mode='categorical',\n",
    "    subset='validation',\n",
    "    shuffle=True\n",
    ")"
   ],
   "metadata": {
    "collapsed": false
   },
   "id": "1199bf88f9fbee20"
  },
  {
   "cell_type": "code",
   "execution_count": null,
   "outputs": [],
   "source": [
    "def calculate_metrics(y_true, y_pred):\n",
    "    precision = precision_score(y_true, y_pred, average='weighted')\n",
    "    recall = recall_score(y_true, y_pred, average='weighted')\n",
    "    return precision, recall\n",
    "\n",
    "\n",
    "model = keras.Sequential([\n",
    "    keras.layers.Conv2D(32, (3, 3), activation='relu', input_shape=(224, 224, 3)),\n",
    "    keras.layers.MaxPooling2D(2, 2),\n",
    "    keras.layers.Conv2D(32, (3, 3), activation='relu'),\n",
    "    keras.layers.MaxPooling2D(2, 2),\n",
    "    keras.layers.Flatten(),\n",
    "    keras.layers.Dense(128, activation='relu'),\n",
    "    keras.layers.Dense(2, activation='softmax')\n",
    "])\n",
    "model.compile(optimizer='adam', loss='binary_crossentropy', metrics=['accuracy'])\n"
   ],
   "metadata": {
    "collapsed": false
   },
   "id": "81deec15a6f2175f"
  },
  {
   "cell_type": "code",
   "execution_count": null,
   "outputs": [],
   "source": [
    "train_losses = []\n",
    "train_accuracies = []\n",
    "val_losses = []\n",
    "val_accuracies = []\n",
    "\n",
    "class MetricsCallback(keras.callbacks.Callback):\n",
    "    def on_epoch_end(self, epoch, logs=None):\n",
    "        print(\n",
    "            f'Epoch {epoch + 1} | Train Loss: {logs[\"loss\"]:.4f}  - Train Accuracy: {logs[\"accuracy\"]:.4f} | Validation Loss: {logs[\"val_loss\"]:.4f} - Validation Accuracy: {logs[\"val_accuracy\"]:.4f} ')\n",
    "        train_losses.append(logs['loss'])\n",
    "        train_accuracies.append(logs['accuracy'])\n",
    "        val_losses.append(logs['val_loss'])\n",
    "        val_accuracies.append(logs['val_accuracy'])\n",
    "\n",
    "metrics_callback = MetricsCallback()\n"
   ],
   "metadata": {
    "collapsed": false
   },
   "id": "5104cef5f1618626"
  },
  {
   "cell_type": "code",
   "execution_count": null,
   "outputs": [],
   "source": [
    "history= model.fit(\n",
    "    train_generator,\n",
    "    steps_per_epoch=train_generator.samples // batch_size,\n",
    "    epochs=10,\n",
    "    validation_data=validation_generator,\n",
    "    validation_steps=validation_generator.samples // batch_size,\n",
    "    callbacks=[metrics_callback]\n",
    ")"
   ],
   "metadata": {
    "collapsed": false
   },
   "id": "e71b11fafd24a914"
  },
  {
   "cell_type": "code",
   "execution_count": null,
   "outputs": [],
   "source": [
    "avg_train_loss = sum(train_losses) / len(train_losses)\n",
    "avg_train_accuracy = sum(train_accuracies) / len(train_accuracies)\n",
    "avg_val_loss = sum(val_losses) / len(val_losses)\n",
    "avg_val_accuracy = sum(val_accuracies) / len(val_accuracies)\n",
    "\n",
    "print(f'Average Training Loss: {avg_train_loss:.4f}')\n",
    "print(f'Average Training Accuracy: {avg_train_accuracy:.4f}')\n",
    "print(f'Average Validation Loss: {avg_val_loss:.4f}')\n",
    "print(f'Average Validation Accuracy: {avg_val_accuracy:.4f}')"
   ],
   "metadata": {
    "collapsed": false
   }
  },
  {
   "cell_type": "code",
   "execution_count": null,
   "outputs": [],
   "source": [
    "model.save(\"drowsiness_detection_model.h5\")"
   ],
   "metadata": {
    "collapsed": false
   }
  },
  {
   "cell_type": "code",
   "execution_count": null,
   "outputs": [],
   "source": [
    "test_datagen = ImageDataGenerator(rescale=1.0 / 255.0)\n",
    "test_generator = test_datagen.flow_from_directory(\n",
    "    test_data_dir,\n",
    "    target_size=image_size,\n",
    "    batch_size=batch_size,\n",
    "    class_mode='categorical'\n",
    ")"
   ],
   "metadata": {
    "collapsed": false
   }
  },
  {
   "cell_type": "code",
   "execution_count": null,
   "outputs": [],
   "source": [
    "from sklearn.metrics import log_loss\n",
    "true_labels = test_generator.classes\n",
    "predictions = model.predict(test_generator)\n",
    "\n",
    "for i, (prediction, true_label) in enumerate(zip(predictions, true_labels)):\n",
    "    confidence_drowsy = prediction[0]\n",
    "    confidence_not_drowsy = prediction[1]\n",
    "    predicted_label = \"DROWSY\" if confidence_drowsy >= confidence_not_drowsy else \"NOT DROWSY\"\n",
    "    label = \"DROWSY\" if true_label == 0 else \"NOT DROWSY\"\n",
    "    print(\n",
    "        f\"Image {i + 1} - True Label: {label}, Predicted Label: {predicted_label},  Confidence Drowsy: {confidence_drowsy:.2f}, Confidence Not Drowsy: {confidence_not_drowsy:.2f}\")\n",
    "\n",
    "predicted_labels = predictions.argmax(axis=-1)\n",
    "correct_predictions = (predicted_labels == true_labels)\n",
    "accuracy = correct_predictions.sum() / len(true_labels)\n",
    "\n",
    "\n",
    "test_classification_report = classification_report(true_labels, predicted_labels)\n",
    "test_confusion_matrix = confusion_matrix(true_labels, predicted_labels)\n",
    "\n",
    "true_positives = test_confusion_matrix[1, 1]  # The count of true positives\n",
    "false_positives = test_confusion_matrix[0, 1]  # The count of false positives\n",
    "false_negatives = test_confusion_matrix[1, 0]  # The count of false negatives\n",
    "\n",
    "precision = true_positives / (true_positives + false_positives)\n",
    "recall = true_positives / (true_positives + false_negatives)\n",
    "\n",
    "\n",
    "print(\"\\nTest Confusion Matrix:\")\n",
    "print(test_confusion_matrix)\n",
    "\n",
    "print(\"\\nTest Classification Report:\")\n",
    "print(test_classification_report)\n",
    "\n",
    "# Print the accuracy\n",
    "print(f\"Test Accuracy: {accuracy:.4f}\")\n",
    "test_loss = log_loss(true_labels, predictions)\n",
    "print(f\"Test Loss: {test_loss:.4f}\")\n",
    "\n",
    "print(\"Test Precision:\", precision)\n",
    "print(\"Test Recall:\", recall)\n"
   ],
   "metadata": {
    "collapsed": false
   },
   "id": "c589e6d0a333cf2d"
  },
  {
   "cell_type": "code",
   "execution_count": null,
   "outputs": [],
   "source": [],
   "metadata": {
    "collapsed": false
   }
  },
  {
   "cell_type": "code",
   "execution_count": null,
   "outputs": [],
   "source": [],
   "metadata": {
    "collapsed": false
   }
  },
  {
   "cell_type": "code",
   "execution_count": null,
   "outputs": [],
   "source": [],
   "metadata": {
    "collapsed": false
   }
  }
 ],
 "metadata": {
  "kernelspec": {
   "display_name": "Python 3",
   "language": "python",
   "name": "python3"
  },
  "language_info": {
   "codemirror_mode": {
    "name": "ipython",
    "version": 2
   },
   "file_extension": ".py",
   "mimetype": "text/x-python",
   "name": "python",
   "nbconvert_exporter": "python",
   "pygments_lexer": "ipython2",
   "version": "2.7.6"
  }
 },
 "nbformat": 4,
 "nbformat_minor": 5
}
