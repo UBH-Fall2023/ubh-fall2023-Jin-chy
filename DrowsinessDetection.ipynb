{
 "cells": [
  {
   "cell_type": "code",
   "execution_count": 1,
   "id": "initial_id",
   "metadata": {
    "collapsed": true,
    "ExecuteTime": {
     "end_time": "2023-11-04T19:04:00.958144Z",
     "start_time": "2023-11-04T19:03:57.979658Z"
    }
   },
   "outputs": [],
   "source": [
    "import tensorflow as tf\n",
    "from tensorflow import keras\n",
    "from keras.preprocessing.image import ImageDataGenerator\n",
    "from sklearn.metrics import precision_score, recall_score\n",
    "from sklearn.metrics import confusion_matrix, classification_report\n"
   ]
  },
  {
   "cell_type": "code",
   "execution_count": 1,
   "outputs": [],
   "source": [],
   "metadata": {
    "collapsed": false,
    "ExecuteTime": {
     "end_time": "2023-11-04T19:04:02.229993Z",
     "start_time": "2023-11-04T19:04:02.226169Z"
    }
   }
  },
  {
   "cell_type": "code",
   "execution_count": 2,
   "outputs": [],
   "source": [
    "train_data_dir = \"./data/train\"\n",
    "test_data_dir = \"./data/test\"\n",
    "\n",
    "image_size = (224, 224)\n",
    "batch_size = 32\n",
    "\n",
    "train_datagen = ImageDataGenerator(\n",
    "    rescale=1.0 / 255.0,\n",
    "    rotation_range=15,\n",
    "    width_shift_range=0.1,\n",
    "    height_shift_range=0.1,\n",
    "    horizontal_flip=True,\n",
    "    zoom_range=0.1,\n",
    "    validation_split=0.2\n",
    ")"
   ],
   "metadata": {
    "collapsed": false,
    "ExecuteTime": {
     "end_time": "2023-11-04T19:04:02.822620Z",
     "start_time": "2023-11-04T19:04:02.818597Z"
    }
   }
  },
  {
   "cell_type": "code",
   "execution_count": null,
   "outputs": [],
   "source": [],
   "metadata": {
    "collapsed": false
   }
  },
  {
   "cell_type": "code",
   "execution_count": 3,
   "outputs": [
    {
     "name": "stdout",
     "output_type": "stream",
     "text": [
      "Found 303 images belonging to 2 classes.\n"
     ]
    }
   ],
   "source": [
    "train_generator = train_datagen.flow_from_directory(\n",
    "    train_data_dir,\n",
    "    target_size=image_size,\n",
    "    batch_size=batch_size,\n",
    "    class_mode='categorical',\n",
    "    subset='training'\n",
    ")"
   ],
   "metadata": {
    "collapsed": false,
    "ExecuteTime": {
     "end_time": "2023-11-04T19:04:03.552589Z",
     "start_time": "2023-11-04T19:04:03.521798Z"
    }
   },
   "id": "6decff868951fe33"
  },
  {
   "cell_type": "code",
   "execution_count": 4,
   "outputs": [
    {
     "name": "stdout",
     "output_type": "stream",
     "text": [
      "Found 75 images belonging to 2 classes.\n"
     ]
    }
   ],
   "source": [
    "validation_generator = train_datagen.flow_from_directory(\n",
    "    train_data_dir,\n",
    "    target_size=image_size,\n",
    "    batch_size=batch_size,\n",
    "    class_mode='categorical',\n",
    "    subset='validation'\n",
    ")"
   ],
   "metadata": {
    "collapsed": false,
    "ExecuteTime": {
     "end_time": "2023-11-04T19:04:04.472105Z",
     "start_time": "2023-11-04T19:04:04.461631Z"
    }
   },
   "id": "1199bf88f9fbee20"
  },
  {
   "cell_type": "code",
   "execution_count": 5,
   "outputs": [],
   "source": [
    "def calculate_metrics(y_true, y_pred):\n",
    "    precision = precision_score(y_true, y_pred, average='weighted')\n",
    "    recall = recall_score(y_true, y_pred, average='weighted')\n",
    "    return precision, recall\n",
    "\n",
    "\n",
    "model = keras.Sequential([\n",
    "    keras.layers.Conv2D(32, (3, 3), activation='relu', input_shape=(224, 224, 3)),\n",
    "    keras.layers.MaxPooling2D(2, 2),\n",
    "    keras.layers.Conv2D(64, (3, 3), activation='relu'),\n",
    "    keras.layers.MaxPooling2D(2, 2),\n",
    "    keras.layers.Flatten(),\n",
    "    keras.layers.Dense(128, activation='relu'),\n",
    "    keras.layers.Dense(2, activation='softmax')\n",
    "])\n",
    "\n",
    "model.compile(optimizer='adam', loss='categorical_crossentropy', metrics=['accuracy'])\n"
   ],
   "metadata": {
    "collapsed": false,
    "ExecuteTime": {
     "end_time": "2023-11-04T19:04:05.119874Z",
     "start_time": "2023-11-04T19:04:04.955350Z"
    }
   },
   "id": "81deec15a6f2175f"
  },
  {
   "cell_type": "code",
   "execution_count": 6,
   "outputs": [],
   "source": [
    "class MetricsCallback(keras.callbacks.Callback):\n",
    "    def on_epoch_end(self, epoch, logs=None):\n",
    "        val_loss, val_accuracy = self.model.evaluate(validation_generator)\n",
    "        val_predictions = self.model.predict(validation_generator)\n",
    "        val_true_labels = validation_generator.classes\n",
    "        val_predicted_labels = val_predictions.argmax(axis=-1)\n",
    "        val_precision, val_recall = calculate_metrics(val_true_labels, val_predicted_labels)\n",
    "        print(\n",
    "            f'Epoch {epoch + 1} - Validation Loss: {val_loss:.4f} - Validation Accuracy: {val_accuracy:.4f} - Validation Precision: {val_precision:.4f} - Validation Recall: {val_recall:.4f}')\n",
    "\n",
    "\n",
    "metrics_callback = MetricsCallback()\n"
   ],
   "metadata": {
    "collapsed": false,
    "ExecuteTime": {
     "end_time": "2023-11-04T19:04:05.486848Z",
     "start_time": "2023-11-04T19:04:05.480906Z"
    }
   },
   "id": "5104cef5f1618626"
  },
  {
   "cell_type": "code",
   "execution_count": 7,
   "outputs": [
    {
     "name": "stdout",
     "output_type": "stream",
     "text": [
      "Epoch 1/10\n",
      "3/3 [==============================] - 1s 139ms/step - loss: 0.6911 - accuracy: 0.4000\n",
      "3/3 [==============================] - 1s 151ms/step\n",
      "Epoch 1 - Validation Loss: 0.6911 - Validation Accuracy: 0.4000 - Validation Precision: 0.5803 - Validation Recall: 0.5067\n",
      "9/9 [==============================] - 7s 713ms/step - loss: 3.1756 - accuracy: 0.5018 - val_loss: 0.6806 - val_accuracy: 0.3906\n",
      "Epoch 2/10\n",
      "3/3 [==============================] - 1s 138ms/step - loss: 0.5999 - accuracy: 0.7067\n",
      "3/3 [==============================] - 1s 142ms/step\n",
      "Epoch 2 - Validation Loss: 0.5999 - Validation Accuracy: 0.7067 - Validation Precision: 0.4839 - Validation Recall: 0.5200\n",
      "9/9 [==============================] - 6s 661ms/step - loss: 0.4509 - accuracy: 0.8635 - val_loss: 0.5905 - val_accuracy: 0.7188\n",
      "Epoch 3/10\n",
      "3/3 [==============================] - 1s 146ms/step - loss: 1.1127 - accuracy: 0.5467\n",
      "3/3 [==============================] - 1s 131ms/step\n",
      "Epoch 3 - Validation Loss: 1.1127 - Validation Accuracy: 0.5467 - Validation Precision: 0.2988 - Validation Recall: 0.5467\n",
      "9/9 [==============================] - 6s 689ms/step - loss: 0.2247 - accuracy: 0.9299 - val_loss: 1.2154 - val_accuracy: 0.5156\n",
      "Epoch 4/10\n"
     ]
    },
    {
     "name": "stderr",
     "output_type": "stream",
     "text": [
      "/Users/mohith/anaconda3/lib/python3.11/site-packages/sklearn/metrics/_classification.py:1469: UndefinedMetricWarning: Precision is ill-defined and being set to 0.0 in labels with no predicted samples. Use `zero_division` parameter to control this behavior.\n",
      "  _warn_prf(average, modifier, msg_start, len(result))\n"
     ]
    },
    {
     "name": "stdout",
     "output_type": "stream",
     "text": [
      "3/3 [==============================] - 1s 141ms/step - loss: 0.2701 - accuracy: 0.8800\n",
      "3/3 [==============================] - 1s 138ms/step\n",
      "Epoch 4 - Validation Loss: 0.2701 - Validation Accuracy: 0.8800 - Validation Precision: 0.4743 - Validation Recall: 0.4933\n",
      "9/9 [==============================] - 6s 666ms/step - loss: 0.1884 - accuracy: 0.9225 - val_loss: 0.2879 - val_accuracy: 0.8281\n",
      "Epoch 5/10\n",
      "3/3 [==============================] - 1s 146ms/step - loss: 0.8252 - accuracy: 0.6000\n",
      "3/3 [==============================] - 1s 146ms/step\n",
      "Epoch 5 - Validation Loss: 0.8252 - Validation Accuracy: 0.6000 - Validation Precision: 0.5269 - Validation Recall: 0.5467\n",
      "9/9 [==============================] - 6s 675ms/step - loss: 0.1928 - accuracy: 0.9483 - val_loss: 0.8260 - val_accuracy: 0.5625\n",
      "Epoch 6/10\n",
      "3/3 [==============================] - 1s 143ms/step - loss: 1.0636 - accuracy: 0.5467\n",
      "3/3 [==============================] - 1s 162ms/step\n",
      "Epoch 6 - Validation Loss: 1.0636 - Validation Accuracy: 0.5467 - Validation Precision: 0.2988 - Validation Recall: 0.5467\n",
      "9/9 [==============================] - 6s 678ms/step - loss: 0.1301 - accuracy: 0.9631 - val_loss: 1.1701 - val_accuracy: 0.5156\n",
      "Epoch 7/10\n"
     ]
    },
    {
     "name": "stderr",
     "output_type": "stream",
     "text": [
      "/Users/mohith/anaconda3/lib/python3.11/site-packages/sklearn/metrics/_classification.py:1469: UndefinedMetricWarning: Precision is ill-defined and being set to 0.0 in labels with no predicted samples. Use `zero_division` parameter to control this behavior.\n",
      "  _warn_prf(average, modifier, msg_start, len(result))\n"
     ]
    },
    {
     "name": "stdout",
     "output_type": "stream",
     "text": [
      "3/3 [==============================] - 1s 155ms/step - loss: 0.5747 - accuracy: 0.6400\n",
      "3/3 [==============================] - 1s 158ms/step\n",
      "Epoch 7 - Validation Loss: 0.5747 - Validation Accuracy: 0.6400 - Validation Precision: 0.5527 - Validation Recall: 0.5600\n",
      "9/9 [==============================] - 7s 754ms/step - loss: 0.1249 - accuracy: 0.9557 - val_loss: 0.7051 - val_accuracy: 0.6562\n",
      "Epoch 8/10\n",
      "3/3 [==============================] - 1s 173ms/step - loss: 0.3925 - accuracy: 0.7733\n",
      "3/3 [==============================] - 1s 159ms/step\n",
      "Epoch 8 - Validation Loss: 0.3925 - Validation Accuracy: 0.7733 - Validation Precision: 0.4216 - Validation Recall: 0.4800\n",
      "9/9 [==============================] - 6s 714ms/step - loss: 0.1469 - accuracy: 0.9483 - val_loss: 0.3965 - val_accuracy: 0.7812\n",
      "Epoch 9/10\n",
      "3/3 [==============================] - 1s 157ms/step - loss: 0.3742 - accuracy: 0.7067\n",
      "3/3 [==============================] - 1s 160ms/step\n",
      "Epoch 9 - Validation Loss: 0.3742 - Validation Accuracy: 0.7067 - Validation Precision: 0.3945 - Validation Recall: 0.4400\n",
      "9/9 [==============================] - 6s 745ms/step - loss: 0.1676 - accuracy: 0.9446 - val_loss: 0.3482 - val_accuracy: 0.7500\n",
      "Epoch 10/10\n",
      "3/3 [==============================] - 1s 157ms/step - loss: 0.8744 - accuracy: 0.5467\n",
      "3/3 [==============================] - 1s 164ms/step\n",
      "Epoch 10 - Validation Loss: 0.8744 - Validation Accuracy: 0.5467 - Validation Precision: 0.2988 - Validation Recall: 0.5467\n",
      "9/9 [==============================] - 6s 718ms/step - loss: 0.1735 - accuracy: 0.9188 - val_loss: 0.7816 - val_accuracy: 0.5781\n",
      "Found 253 images belonging to 2 classes.\n"
     ]
    },
    {
     "name": "stderr",
     "output_type": "stream",
     "text": [
      "/Users/mohith/anaconda3/lib/python3.11/site-packages/sklearn/metrics/_classification.py:1469: UndefinedMetricWarning: Precision is ill-defined and being set to 0.0 in labels with no predicted samples. Use `zero_division` parameter to control this behavior.\n",
      "  _warn_prf(average, modifier, msg_start, len(result))\n"
     ]
    }
   ],
   "source": [
    "\n",
    "history = model.fit(\n",
    "    train_generator,\n",
    "    steps_per_epoch=train_generator.samples // batch_size,\n",
    "    epochs=10,\n",
    "    validation_data=validation_generator,\n",
    "    validation_steps=validation_generator.samples // batch_size,\n",
    "    callbacks=[metrics_callback]\n",
    ")\n",
    "\n",
    "test_datagen = ImageDataGenerator(rescale=1.0 / 255.0)\n",
    "test_generator = test_datagen.flow_from_directory(\n",
    "    test_data_dir,\n",
    "    target_size=image_size,\n",
    "    batch_size=batch_size,\n",
    "    class_mode='categorical'\n",
    ")\n"
   ],
   "metadata": {
    "collapsed": false,
    "ExecuteTime": {
     "end_time": "2023-11-04T19:05:09.572490Z",
     "start_time": "2023-11-04T19:04:06.432074Z"
    }
   },
   "id": "e71b11fafd24a914"
  },
  {
   "cell_type": "code",
   "execution_count": 8,
   "outputs": [
    {
     "name": "stdout",
     "output_type": "stream",
     "text": [
      "8/8 [==============================] - 1s 149ms/step - loss: 4.9770 - accuracy: 0.3834\n",
      "8/8 [==============================] - 1s 158ms/step\n",
      "Image 1 - Confidence Drowsy: 1.00, Confidence Not Drowsy: 0.00\n",
      "Image 2 - Confidence Drowsy: 1.00, Confidence Not Drowsy: 0.00\n",
      "Image 3 - Confidence Drowsy: 1.00, Confidence Not Drowsy: 0.00\n",
      "Image 4 - Confidence Drowsy: 1.00, Confidence Not Drowsy: 0.00\n",
      "Image 5 - Confidence Drowsy: 1.00, Confidence Not Drowsy: 0.00\n",
      "Image 6 - Confidence Drowsy: 1.00, Confidence Not Drowsy: 0.00\n",
      "Image 7 - Confidence Drowsy: 1.00, Confidence Not Drowsy: 0.00\n",
      "Image 8 - Confidence Drowsy: 1.00, Confidence Not Drowsy: 0.00\n",
      "Image 9 - Confidence Drowsy: 1.00, Confidence Not Drowsy: 0.00\n",
      "Image 10 - Confidence Drowsy: 1.00, Confidence Not Drowsy: 0.00\n",
      "Image 11 - Confidence Drowsy: 1.00, Confidence Not Drowsy: 0.00\n",
      "Image 12 - Confidence Drowsy: 1.00, Confidence Not Drowsy: 0.00\n",
      "Image 13 - Confidence Drowsy: 1.00, Confidence Not Drowsy: 0.00\n",
      "Image 14 - Confidence Drowsy: 1.00, Confidence Not Drowsy: 0.00\n",
      "Image 15 - Confidence Drowsy: 1.00, Confidence Not Drowsy: 0.00\n",
      "Image 16 - Confidence Drowsy: 1.00, Confidence Not Drowsy: 0.00\n",
      "Image 17 - Confidence Drowsy: 1.00, Confidence Not Drowsy: 0.00\n",
      "Image 18 - Confidence Drowsy: 1.00, Confidence Not Drowsy: 0.00\n",
      "Image 19 - Confidence Drowsy: 1.00, Confidence Not Drowsy: 0.00\n",
      "Image 20 - Confidence Drowsy: 1.00, Confidence Not Drowsy: 0.00\n",
      "Image 21 - Confidence Drowsy: 1.00, Confidence Not Drowsy: 0.00\n",
      "Image 22 - Confidence Drowsy: 1.00, Confidence Not Drowsy: 0.00\n",
      "Image 23 - Confidence Drowsy: 1.00, Confidence Not Drowsy: 0.00\n",
      "Image 24 - Confidence Drowsy: 1.00, Confidence Not Drowsy: 0.00\n",
      "Image 25 - Confidence Drowsy: 1.00, Confidence Not Drowsy: 0.00\n",
      "Image 26 - Confidence Drowsy: 1.00, Confidence Not Drowsy: 0.00\n",
      "Image 27 - Confidence Drowsy: 1.00, Confidence Not Drowsy: 0.00\n",
      "Image 28 - Confidence Drowsy: 1.00, Confidence Not Drowsy: 0.00\n",
      "Image 29 - Confidence Drowsy: 1.00, Confidence Not Drowsy: 0.00\n",
      "Image 30 - Confidence Drowsy: 1.00, Confidence Not Drowsy: 0.00\n",
      "Image 31 - Confidence Drowsy: 1.00, Confidence Not Drowsy: 0.00\n",
      "Image 32 - Confidence Drowsy: 1.00, Confidence Not Drowsy: 0.00\n",
      "Image 33 - Confidence Drowsy: 1.00, Confidence Not Drowsy: 0.00\n",
      "Image 34 - Confidence Drowsy: 1.00, Confidence Not Drowsy: 0.00\n",
      "Image 35 - Confidence Drowsy: 1.00, Confidence Not Drowsy: 0.00\n",
      "Image 36 - Confidence Drowsy: 1.00, Confidence Not Drowsy: 0.00\n",
      "Image 37 - Confidence Drowsy: 1.00, Confidence Not Drowsy: 0.00\n",
      "Image 38 - Confidence Drowsy: 1.00, Confidence Not Drowsy: 0.00\n",
      "Image 39 - Confidence Drowsy: 1.00, Confidence Not Drowsy: 0.00\n",
      "Image 40 - Confidence Drowsy: 1.00, Confidence Not Drowsy: 0.00\n",
      "Image 41 - Confidence Drowsy: 1.00, Confidence Not Drowsy: 0.00\n",
      "Image 42 - Confidence Drowsy: 1.00, Confidence Not Drowsy: 0.00\n",
      "Image 43 - Confidence Drowsy: 1.00, Confidence Not Drowsy: 0.00\n",
      "Image 44 - Confidence Drowsy: 1.00, Confidence Not Drowsy: 0.00\n",
      "Image 45 - Confidence Drowsy: 1.00, Confidence Not Drowsy: 0.00\n",
      "Image 46 - Confidence Drowsy: 1.00, Confidence Not Drowsy: 0.00\n",
      "Image 47 - Confidence Drowsy: 1.00, Confidence Not Drowsy: 0.00\n",
      "Image 48 - Confidence Drowsy: 1.00, Confidence Not Drowsy: 0.00\n",
      "Image 49 - Confidence Drowsy: 1.00, Confidence Not Drowsy: 0.00\n",
      "Image 50 - Confidence Drowsy: 1.00, Confidence Not Drowsy: 0.00\n",
      "Image 51 - Confidence Drowsy: 1.00, Confidence Not Drowsy: 0.00\n",
      "Image 52 - Confidence Drowsy: 1.00, Confidence Not Drowsy: 0.00\n",
      "Image 53 - Confidence Drowsy: 1.00, Confidence Not Drowsy: 0.00\n",
      "Image 54 - Confidence Drowsy: 1.00, Confidence Not Drowsy: 0.00\n",
      "Image 55 - Confidence Drowsy: 1.00, Confidence Not Drowsy: 0.00\n",
      "Image 56 - Confidence Drowsy: 1.00, Confidence Not Drowsy: 0.00\n",
      "Image 57 - Confidence Drowsy: 1.00, Confidence Not Drowsy: 0.00\n",
      "Image 58 - Confidence Drowsy: 1.00, Confidence Not Drowsy: 0.00\n",
      "Image 59 - Confidence Drowsy: 1.00, Confidence Not Drowsy: 0.00\n",
      "Image 60 - Confidence Drowsy: 1.00, Confidence Not Drowsy: 0.00\n",
      "Image 61 - Confidence Drowsy: 1.00, Confidence Not Drowsy: 0.00\n",
      "Image 62 - Confidence Drowsy: 1.00, Confidence Not Drowsy: 0.00\n",
      "Image 63 - Confidence Drowsy: 1.00, Confidence Not Drowsy: 0.00\n",
      "Image 64 - Confidence Drowsy: 1.00, Confidence Not Drowsy: 0.00\n",
      "Image 65 - Confidence Drowsy: 1.00, Confidence Not Drowsy: 0.00\n",
      "Image 66 - Confidence Drowsy: 1.00, Confidence Not Drowsy: 0.00\n",
      "Image 67 - Confidence Drowsy: 1.00, Confidence Not Drowsy: 0.00\n",
      "Image 68 - Confidence Drowsy: 1.00, Confidence Not Drowsy: 0.00\n",
      "Image 69 - Confidence Drowsy: 1.00, Confidence Not Drowsy: 0.00\n",
      "Image 70 - Confidence Drowsy: 1.00, Confidence Not Drowsy: 0.00\n",
      "Image 71 - Confidence Drowsy: 1.00, Confidence Not Drowsy: 0.00\n",
      "Image 72 - Confidence Drowsy: 1.00, Confidence Not Drowsy: 0.00\n",
      "Image 73 - Confidence Drowsy: 1.00, Confidence Not Drowsy: 0.00\n",
      "Image 74 - Confidence Drowsy: 1.00, Confidence Not Drowsy: 0.00\n",
      "Image 75 - Confidence Drowsy: 1.00, Confidence Not Drowsy: 0.00\n",
      "Image 76 - Confidence Drowsy: 1.00, Confidence Not Drowsy: 0.00\n",
      "Image 77 - Confidence Drowsy: 1.00, Confidence Not Drowsy: 0.00\n",
      "Image 78 - Confidence Drowsy: 1.00, Confidence Not Drowsy: 0.00\n",
      "Image 79 - Confidence Drowsy: 1.00, Confidence Not Drowsy: 0.00\n",
      "Image 80 - Confidence Drowsy: 1.00, Confidence Not Drowsy: 0.00\n",
      "Image 81 - Confidence Drowsy: 1.00, Confidence Not Drowsy: 0.00\n",
      "Image 82 - Confidence Drowsy: 1.00, Confidence Not Drowsy: 0.00\n",
      "Image 83 - Confidence Drowsy: 1.00, Confidence Not Drowsy: 0.00\n",
      "Image 84 - Confidence Drowsy: 1.00, Confidence Not Drowsy: 0.00\n",
      "Image 85 - Confidence Drowsy: 1.00, Confidence Not Drowsy: 0.00\n",
      "Image 86 - Confidence Drowsy: 1.00, Confidence Not Drowsy: 0.00\n",
      "Image 87 - Confidence Drowsy: 1.00, Confidence Not Drowsy: 0.00\n",
      "Image 88 - Confidence Drowsy: 1.00, Confidence Not Drowsy: 0.00\n",
      "Image 89 - Confidence Drowsy: 1.00, Confidence Not Drowsy: 0.00\n",
      "Image 90 - Confidence Drowsy: 1.00, Confidence Not Drowsy: 0.00\n",
      "Image 91 - Confidence Drowsy: 1.00, Confidence Not Drowsy: 0.00\n",
      "Image 92 - Confidence Drowsy: 1.00, Confidence Not Drowsy: 0.00\n",
      "Image 93 - Confidence Drowsy: 1.00, Confidence Not Drowsy: 0.00\n",
      "Image 94 - Confidence Drowsy: 1.00, Confidence Not Drowsy: 0.00\n",
      "Image 95 - Confidence Drowsy: 1.00, Confidence Not Drowsy: 0.00\n",
      "Image 96 - Confidence Drowsy: 1.00, Confidence Not Drowsy: 0.00\n",
      "Image 97 - Confidence Drowsy: 1.00, Confidence Not Drowsy: 0.00\n",
      "Image 98 - Confidence Drowsy: 1.00, Confidence Not Drowsy: 0.00\n",
      "Image 99 - Confidence Drowsy: 1.00, Confidence Not Drowsy: 0.00\n",
      "Image 100 - Confidence Drowsy: 1.00, Confidence Not Drowsy: 0.00\n",
      "Image 101 - Confidence Drowsy: 1.00, Confidence Not Drowsy: 0.00\n",
      "Image 102 - Confidence Drowsy: 1.00, Confidence Not Drowsy: 0.00\n",
      "Image 103 - Confidence Drowsy: 1.00, Confidence Not Drowsy: 0.00\n",
      "Image 104 - Confidence Drowsy: 1.00, Confidence Not Drowsy: 0.00\n",
      "Image 105 - Confidence Drowsy: 1.00, Confidence Not Drowsy: 0.00\n",
      "Image 106 - Confidence Drowsy: 1.00, Confidence Not Drowsy: 0.00\n",
      "Image 107 - Confidence Drowsy: 1.00, Confidence Not Drowsy: 0.00\n",
      "Image 108 - Confidence Drowsy: 1.00, Confidence Not Drowsy: 0.00\n",
      "Image 109 - Confidence Drowsy: 1.00, Confidence Not Drowsy: 0.00\n",
      "Image 110 - Confidence Drowsy: 1.00, Confidence Not Drowsy: 0.00\n",
      "Image 111 - Confidence Drowsy: 1.00, Confidence Not Drowsy: 0.00\n",
      "Image 112 - Confidence Drowsy: 1.00, Confidence Not Drowsy: 0.00\n",
      "Image 113 - Confidence Drowsy: 1.00, Confidence Not Drowsy: 0.00\n",
      "Image 114 - Confidence Drowsy: 1.00, Confidence Not Drowsy: 0.00\n",
      "Image 115 - Confidence Drowsy: 1.00, Confidence Not Drowsy: 0.00\n",
      "Image 116 - Confidence Drowsy: 1.00, Confidence Not Drowsy: 0.00\n",
      "Image 117 - Confidence Drowsy: 1.00, Confidence Not Drowsy: 0.00\n",
      "Image 118 - Confidence Drowsy: 1.00, Confidence Not Drowsy: 0.00\n",
      "Image 119 - Confidence Drowsy: 1.00, Confidence Not Drowsy: 0.00\n",
      "Image 120 - Confidence Drowsy: 1.00, Confidence Not Drowsy: 0.00\n",
      "Image 121 - Confidence Drowsy: 1.00, Confidence Not Drowsy: 0.00\n",
      "Image 122 - Confidence Drowsy: 1.00, Confidence Not Drowsy: 0.00\n",
      "Image 123 - Confidence Drowsy: 1.00, Confidence Not Drowsy: 0.00\n",
      "Image 124 - Confidence Drowsy: 1.00, Confidence Not Drowsy: 0.00\n",
      "Image 125 - Confidence Drowsy: 1.00, Confidence Not Drowsy: 0.00\n",
      "Image 126 - Confidence Drowsy: 1.00, Confidence Not Drowsy: 0.00\n",
      "Image 127 - Confidence Drowsy: 1.00, Confidence Not Drowsy: 0.00\n",
      "Image 128 - Confidence Drowsy: 1.00, Confidence Not Drowsy: 0.00\n",
      "Image 129 - Confidence Drowsy: 1.00, Confidence Not Drowsy: 0.00\n",
      "Image 130 - Confidence Drowsy: 1.00, Confidence Not Drowsy: 0.00\n",
      "Image 131 - Confidence Drowsy: 1.00, Confidence Not Drowsy: 0.00\n",
      "Image 132 - Confidence Drowsy: 1.00, Confidence Not Drowsy: 0.00\n",
      "Image 133 - Confidence Drowsy: 1.00, Confidence Not Drowsy: 0.00\n",
      "Image 134 - Confidence Drowsy: 1.00, Confidence Not Drowsy: 0.00\n",
      "Image 135 - Confidence Drowsy: 1.00, Confidence Not Drowsy: 0.00\n",
      "Image 136 - Confidence Drowsy: 1.00, Confidence Not Drowsy: 0.00\n",
      "Image 137 - Confidence Drowsy: 1.00, Confidence Not Drowsy: 0.00\n",
      "Image 138 - Confidence Drowsy: 1.00, Confidence Not Drowsy: 0.00\n",
      "Image 139 - Confidence Drowsy: 1.00, Confidence Not Drowsy: 0.00\n",
      "Image 140 - Confidence Drowsy: 1.00, Confidence Not Drowsy: 0.00\n",
      "Image 141 - Confidence Drowsy: 1.00, Confidence Not Drowsy: 0.00\n",
      "Image 142 - Confidence Drowsy: 1.00, Confidence Not Drowsy: 0.00\n",
      "Image 143 - Confidence Drowsy: 1.00, Confidence Not Drowsy: 0.00\n",
      "Image 144 - Confidence Drowsy: 1.00, Confidence Not Drowsy: 0.00\n",
      "Image 145 - Confidence Drowsy: 1.00, Confidence Not Drowsy: 0.00\n",
      "Image 146 - Confidence Drowsy: 1.00, Confidence Not Drowsy: 0.00\n",
      "Image 147 - Confidence Drowsy: 1.00, Confidence Not Drowsy: 0.00\n",
      "Image 148 - Confidence Drowsy: 1.00, Confidence Not Drowsy: 0.00\n",
      "Image 149 - Confidence Drowsy: 1.00, Confidence Not Drowsy: 0.00\n",
      "Image 150 - Confidence Drowsy: 1.00, Confidence Not Drowsy: 0.00\n",
      "Image 151 - Confidence Drowsy: 1.00, Confidence Not Drowsy: 0.00\n",
      "Image 152 - Confidence Drowsy: 1.00, Confidence Not Drowsy: 0.00\n",
      "Image 153 - Confidence Drowsy: 1.00, Confidence Not Drowsy: 0.00\n",
      "Image 154 - Confidence Drowsy: 1.00, Confidence Not Drowsy: 0.00\n",
      "Image 155 - Confidence Drowsy: 1.00, Confidence Not Drowsy: 0.00\n",
      "Image 156 - Confidence Drowsy: 1.00, Confidence Not Drowsy: 0.00\n",
      "Image 157 - Confidence Drowsy: 1.00, Confidence Not Drowsy: 0.00\n",
      "Image 158 - Confidence Drowsy: 1.00, Confidence Not Drowsy: 0.00\n",
      "Image 159 - Confidence Drowsy: 1.00, Confidence Not Drowsy: 0.00\n",
      "Image 160 - Confidence Drowsy: 1.00, Confidence Not Drowsy: 0.00\n",
      "Image 161 - Confidence Drowsy: 1.00, Confidence Not Drowsy: 0.00\n",
      "Image 162 - Confidence Drowsy: 1.00, Confidence Not Drowsy: 0.00\n",
      "Image 163 - Confidence Drowsy: 1.00, Confidence Not Drowsy: 0.00\n",
      "Image 164 - Confidence Drowsy: 1.00, Confidence Not Drowsy: 0.00\n",
      "Image 165 - Confidence Drowsy: 1.00, Confidence Not Drowsy: 0.00\n",
      "Image 166 - Confidence Drowsy: 1.00, Confidence Not Drowsy: 0.00\n",
      "Image 167 - Confidence Drowsy: 1.00, Confidence Not Drowsy: 0.00\n",
      "Image 168 - Confidence Drowsy: 1.00, Confidence Not Drowsy: 0.00\n",
      "Image 169 - Confidence Drowsy: 1.00, Confidence Not Drowsy: 0.00\n",
      "Image 170 - Confidence Drowsy: 1.00, Confidence Not Drowsy: 0.00\n",
      "Image 171 - Confidence Drowsy: 1.00, Confidence Not Drowsy: 0.00\n",
      "Image 172 - Confidence Drowsy: 1.00, Confidence Not Drowsy: 0.00\n",
      "Image 173 - Confidence Drowsy: 1.00, Confidence Not Drowsy: 0.00\n",
      "Image 174 - Confidence Drowsy: 1.00, Confidence Not Drowsy: 0.00\n",
      "Image 175 - Confidence Drowsy: 1.00, Confidence Not Drowsy: 0.00\n",
      "Image 176 - Confidence Drowsy: 1.00, Confidence Not Drowsy: 0.00\n",
      "Image 177 - Confidence Drowsy: 1.00, Confidence Not Drowsy: 0.00\n",
      "Image 178 - Confidence Drowsy: 1.00, Confidence Not Drowsy: 0.00\n",
      "Image 179 - Confidence Drowsy: 1.00, Confidence Not Drowsy: 0.00\n",
      "Image 180 - Confidence Drowsy: 1.00, Confidence Not Drowsy: 0.00\n",
      "Image 181 - Confidence Drowsy: 1.00, Confidence Not Drowsy: 0.00\n",
      "Image 182 - Confidence Drowsy: 1.00, Confidence Not Drowsy: 0.00\n",
      "Image 183 - Confidence Drowsy: 1.00, Confidence Not Drowsy: 0.00\n",
      "Image 184 - Confidence Drowsy: 1.00, Confidence Not Drowsy: 0.00\n",
      "Image 185 - Confidence Drowsy: 1.00, Confidence Not Drowsy: 0.00\n",
      "Image 186 - Confidence Drowsy: 1.00, Confidence Not Drowsy: 0.00\n",
      "Image 187 - Confidence Drowsy: 1.00, Confidence Not Drowsy: 0.00\n",
      "Image 188 - Confidence Drowsy: 1.00, Confidence Not Drowsy: 0.00\n",
      "Image 189 - Confidence Drowsy: 1.00, Confidence Not Drowsy: 0.00\n",
      "Image 190 - Confidence Drowsy: 1.00, Confidence Not Drowsy: 0.00\n",
      "Image 191 - Confidence Drowsy: 1.00, Confidence Not Drowsy: 0.00\n",
      "Image 192 - Confidence Drowsy: 1.00, Confidence Not Drowsy: 0.00\n",
      "Image 193 - Confidence Drowsy: 1.00, Confidence Not Drowsy: 0.00\n",
      "Image 194 - Confidence Drowsy: 1.00, Confidence Not Drowsy: 0.00\n",
      "Image 195 - Confidence Drowsy: 1.00, Confidence Not Drowsy: 0.00\n",
      "Image 196 - Confidence Drowsy: 1.00, Confidence Not Drowsy: 0.00\n",
      "Image 197 - Confidence Drowsy: 1.00, Confidence Not Drowsy: 0.00\n",
      "Image 198 - Confidence Drowsy: 1.00, Confidence Not Drowsy: 0.00\n",
      "Image 199 - Confidence Drowsy: 1.00, Confidence Not Drowsy: 0.00\n",
      "Image 200 - Confidence Drowsy: 1.00, Confidence Not Drowsy: 0.00\n",
      "Image 201 - Confidence Drowsy: 1.00, Confidence Not Drowsy: 0.00\n",
      "Image 202 - Confidence Drowsy: 1.00, Confidence Not Drowsy: 0.00\n",
      "Image 203 - Confidence Drowsy: 1.00, Confidence Not Drowsy: 0.00\n",
      "Image 204 - Confidence Drowsy: 1.00, Confidence Not Drowsy: 0.00\n",
      "Image 205 - Confidence Drowsy: 1.00, Confidence Not Drowsy: 0.00\n",
      "Image 206 - Confidence Drowsy: 1.00, Confidence Not Drowsy: 0.00\n",
      "Image 207 - Confidence Drowsy: 1.00, Confidence Not Drowsy: 0.00\n",
      "Image 208 - Confidence Drowsy: 1.00, Confidence Not Drowsy: 0.00\n",
      "Image 209 - Confidence Drowsy: 1.00, Confidence Not Drowsy: 0.00\n",
      "Image 210 - Confidence Drowsy: 1.00, Confidence Not Drowsy: 0.00\n",
      "Image 211 - Confidence Drowsy: 1.00, Confidence Not Drowsy: 0.00\n",
      "Image 212 - Confidence Drowsy: 1.00, Confidence Not Drowsy: 0.00\n",
      "Image 213 - Confidence Drowsy: 1.00, Confidence Not Drowsy: 0.00\n",
      "Image 214 - Confidence Drowsy: 1.00, Confidence Not Drowsy: 0.00\n",
      "Image 215 - Confidence Drowsy: 1.00, Confidence Not Drowsy: 0.00\n",
      "Image 216 - Confidence Drowsy: 1.00, Confidence Not Drowsy: 0.00\n",
      "Image 217 - Confidence Drowsy: 1.00, Confidence Not Drowsy: 0.00\n",
      "Image 218 - Confidence Drowsy: 1.00, Confidence Not Drowsy: 0.00\n",
      "Image 219 - Confidence Drowsy: 1.00, Confidence Not Drowsy: 0.00\n",
      "Image 220 - Confidence Drowsy: 1.00, Confidence Not Drowsy: 0.00\n",
      "Image 221 - Confidence Drowsy: 1.00, Confidence Not Drowsy: 0.00\n",
      "Image 222 - Confidence Drowsy: 1.00, Confidence Not Drowsy: 0.00\n",
      "Image 223 - Confidence Drowsy: 1.00, Confidence Not Drowsy: 0.00\n",
      "Image 224 - Confidence Drowsy: 1.00, Confidence Not Drowsy: 0.00\n",
      "Image 225 - Confidence Drowsy: 1.00, Confidence Not Drowsy: 0.00\n",
      "Image 226 - Confidence Drowsy: 1.00, Confidence Not Drowsy: 0.00\n",
      "Image 227 - Confidence Drowsy: 1.00, Confidence Not Drowsy: 0.00\n",
      "Image 228 - Confidence Drowsy: 1.00, Confidence Not Drowsy: 0.00\n",
      "Image 229 - Confidence Drowsy: 1.00, Confidence Not Drowsy: 0.00\n",
      "Image 230 - Confidence Drowsy: 1.00, Confidence Not Drowsy: 0.00\n",
      "Image 231 - Confidence Drowsy: 1.00, Confidence Not Drowsy: 0.00\n",
      "Image 232 - Confidence Drowsy: 1.00, Confidence Not Drowsy: 0.00\n",
      "Image 233 - Confidence Drowsy: 1.00, Confidence Not Drowsy: 0.00\n",
      "Image 234 - Confidence Drowsy: 1.00, Confidence Not Drowsy: 0.00\n",
      "Image 235 - Confidence Drowsy: 1.00, Confidence Not Drowsy: 0.00\n",
      "Image 236 - Confidence Drowsy: 1.00, Confidence Not Drowsy: 0.00\n",
      "Image 237 - Confidence Drowsy: 1.00, Confidence Not Drowsy: 0.00\n",
      "Image 238 - Confidence Drowsy: 1.00, Confidence Not Drowsy: 0.00\n",
      "Image 239 - Confidence Drowsy: 1.00, Confidence Not Drowsy: 0.00\n",
      "Image 240 - Confidence Drowsy: 1.00, Confidence Not Drowsy: 0.00\n",
      "Image 241 - Confidence Drowsy: 1.00, Confidence Not Drowsy: 0.00\n",
      "Image 242 - Confidence Drowsy: 1.00, Confidence Not Drowsy: 0.00\n",
      "Image 243 - Confidence Drowsy: 1.00, Confidence Not Drowsy: 0.00\n",
      "Image 244 - Confidence Drowsy: 1.00, Confidence Not Drowsy: 0.00\n",
      "Image 245 - Confidence Drowsy: 1.00, Confidence Not Drowsy: 0.00\n",
      "Image 246 - Confidence Drowsy: 1.00, Confidence Not Drowsy: 0.00\n",
      "Image 247 - Confidence Drowsy: 1.00, Confidence Not Drowsy: 0.00\n",
      "Image 248 - Confidence Drowsy: 1.00, Confidence Not Drowsy: 0.00\n",
      "Image 249 - Confidence Drowsy: 1.00, Confidence Not Drowsy: 0.00\n",
      "Image 250 - Confidence Drowsy: 1.00, Confidence Not Drowsy: 0.00\n",
      "Image 251 - Confidence Drowsy: 1.00, Confidence Not Drowsy: 0.00\n",
      "Image 252 - Confidence Drowsy: 1.00, Confidence Not Drowsy: 0.00\n",
      "Image 253 - Confidence Drowsy: 1.00, Confidence Not Drowsy: 0.00\n"
     ]
    }
   ],
   "source": [
    "test_loss, test_accuracy = model.evaluate(test_generator)\n",
    "\n",
    "predictions = model.predict(test_generator)\n",
    "for i, prediction in enumerate(predictions):\n",
    "    confidence_drowsy = prediction[0]\n",
    "    confidence_not_drowsy = prediction[1]\n",
    "    print(\n",
    "        f\"Image {i + 1} - Confidence Drowsy: {confidence_drowsy:.2f}, Confidence Not Drowsy: {confidence_not_drowsy:.2f}\")\n"
   ],
   "metadata": {
    "collapsed": false,
    "ExecuteTime": {
     "end_time": "2023-11-04T19:05:12.418003Z",
     "start_time": "2023-11-04T19:05:09.574906Z"
    }
   },
   "id": "c589e6d0a333cf2d"
  },
  {
   "cell_type": "code",
   "execution_count": 10,
   "outputs": [
    {
     "name": "stdout",
     "output_type": "stream",
     "text": [
      "8/8 [==============================] - 3s 352ms/step\n",
      "Test Loss: 7.3924 - Test Accuracy: 0.3834 - Test Precision: 0.1470 - Test Recall: 0.3834\n"
     ]
    },
    {
     "name": "stderr",
     "output_type": "stream",
     "text": [
      "/Users/mohith/anaconda3/lib/python3.11/site-packages/sklearn/metrics/_classification.py:1469: UndefinedMetricWarning: Precision is ill-defined and being set to 0.0 in labels with no predicted samples. Use `zero_division` parameter to control this behavior.\n",
      "  _warn_prf(average, modifier, msg_start, len(result))\n"
     ]
    }
   ],
   "source": [
    "test_predictions = model.predict(test_generator)\n",
    "test_true_labels = test_generator.classes\n",
    "test_predicted_labels = test_predictions.argmax(axis=-1)\n",
    "test_precision, test_recall = calculate_metrics(test_true_labels, test_predicted_labels)\n",
    "\n",
    "print(\n",
    "    f\"Test Loss: {test_loss:.4f} - Test Accuracy: {test_accuracy:.4f} - Test Precision: {test_precision:.4f} - Test Recall: {test_recall:.4f}\")\n"
   ],
   "metadata": {
    "collapsed": false,
    "ExecuteTime": {
     "end_time": "2023-11-04T18:57:05.221774Z",
     "start_time": "2023-11-04T18:57:01.963629Z"
    }
   },
   "id": "91c6c39b4e767911"
  },
  {
   "cell_type": "code",
   "execution_count": 9,
   "outputs": [
    {
     "name": "stdout",
     "output_type": "stream",
     "text": [
      "10/10 [==============================] - 3s 236ms/step\n",
      "3/3 [==============================] - 1s 149ms/step\n",
      "8/8 [==============================] - 1s 133ms/step\n",
      "Train Confusion Matrix:\n",
      "[[51 87]\n",
      " [71 94]]\n",
      "\n",
      "Validation Confusion Matrix:\n",
      "[[ 0 34]\n",
      " [ 0 41]]\n",
      "\n",
      "Test Confusion Matrix:\n",
      "[[ 97   0]\n",
      " [156   0]]\n",
      "\n",
      "Train Classification Report:\n",
      "              precision    recall  f1-score   support\n",
      "\n",
      "           0       0.42      0.37      0.39       138\n",
      "           1       0.52      0.57      0.54       165\n",
      "\n",
      "    accuracy                           0.48       303\n",
      "   macro avg       0.47      0.47      0.47       303\n",
      "weighted avg       0.47      0.48      0.47       303\n",
      "\n",
      "\n",
      "Validation Classification Report:\n",
      "              precision    recall  f1-score   support\n",
      "\n",
      "           0       0.00      0.00      0.00        34\n",
      "           1       0.55      1.00      0.71        41\n",
      "\n",
      "    accuracy                           0.55        75\n",
      "   macro avg       0.27      0.50      0.35        75\n",
      "weighted avg       0.30      0.55      0.39        75\n",
      "\n",
      "\n",
      "Test Classification Report:\n",
      "              precision    recall  f1-score   support\n",
      "\n",
      "           0       0.38      1.00      0.55        97\n",
      "           1       0.00      0.00      0.00       156\n",
      "\n",
      "    accuracy                           0.38       253\n",
      "   macro avg       0.19      0.50      0.28       253\n",
      "weighted avg       0.15      0.38      0.21       253\n",
      "\n"
     ]
    },
    {
     "name": "stderr",
     "output_type": "stream",
     "text": [
      "/Users/mohith/anaconda3/lib/python3.11/site-packages/sklearn/metrics/_classification.py:1469: UndefinedMetricWarning: Precision and F-score are ill-defined and being set to 0.0 in labels with no predicted samples. Use `zero_division` parameter to control this behavior.\n",
      "  _warn_prf(average, modifier, msg_start, len(result))\n",
      "/Users/mohith/anaconda3/lib/python3.11/site-packages/sklearn/metrics/_classification.py:1469: UndefinedMetricWarning: Precision and F-score are ill-defined and being set to 0.0 in labels with no predicted samples. Use `zero_division` parameter to control this behavior.\n",
      "  _warn_prf(average, modifier, msg_start, len(result))\n",
      "/Users/mohith/anaconda3/lib/python3.11/site-packages/sklearn/metrics/_classification.py:1469: UndefinedMetricWarning: Precision and F-score are ill-defined and being set to 0.0 in labels with no predicted samples. Use `zero_division` parameter to control this behavior.\n",
      "  _warn_prf(average, modifier, msg_start, len(result))\n",
      "/Users/mohith/anaconda3/lib/python3.11/site-packages/sklearn/metrics/_classification.py:1469: UndefinedMetricWarning: Precision and F-score are ill-defined and being set to 0.0 in labels with no predicted samples. Use `zero_division` parameter to control this behavior.\n",
      "  _warn_prf(average, modifier, msg_start, len(result))\n",
      "/Users/mohith/anaconda3/lib/python3.11/site-packages/sklearn/metrics/_classification.py:1469: UndefinedMetricWarning: Precision and F-score are ill-defined and being set to 0.0 in labels with no predicted samples. Use `zero_division` parameter to control this behavior.\n",
      "  _warn_prf(average, modifier, msg_start, len(result))\n",
      "/Users/mohith/anaconda3/lib/python3.11/site-packages/sklearn/metrics/_classification.py:1469: UndefinedMetricWarning: Precision and F-score are ill-defined and being set to 0.0 in labels with no predicted samples. Use `zero_division` parameter to control this behavior.\n",
      "  _warn_prf(average, modifier, msg_start, len(result))\n",
      "/Users/mohith/anaconda3/lib/python3.11/site-packages/keras/src/engine/training.py:3000: UserWarning: You are saving your model as an HDF5 file via `model.save()`. This file format is considered legacy. We recommend using instead the native Keras format, e.g. `model.save('my_model.keras')`.\n",
      "  saving_api.save_model(\n"
     ]
    }
   ],
   "source": [
    "train_predictions = model.predict(train_generator)\n",
    "train_true_labels = train_generator.classes\n",
    "train_predicted_labels = train_predictions.argmax(axis=-1)\n",
    "\n",
    "validation_predictions = model.predict(validation_generator)\n",
    "validation_true_labels = validation_generator.classes\n",
    "validation_predicted_labels = validation_predictions.argmax(axis=-1)\n",
    "\n",
    "test_predictions = model.predict(test_generator)\n",
    "test_true_labels = test_generator.classes\n",
    "test_predicted_labels = test_predictions.argmax(axis=-1)\n",
    "\n",
    "train_confusion_matrix = confusion_matrix(train_true_labels, train_predicted_labels)\n",
    "validation_confusion_matrix = confusion_matrix(validation_true_labels, validation_predicted_labels)\n",
    "test_confusion_matrix = confusion_matrix(test_true_labels, test_predicted_labels)\n",
    "\n",
    "print(\"Train Confusion Matrix:\")\n",
    "print(train_confusion_matrix)\n",
    "print(\"\\nValidation Confusion Matrix:\")\n",
    "print(validation_confusion_matrix)\n",
    "print(\"\\nTest Confusion Matrix:\")\n",
    "print(test_confusion_matrix)\n",
    "\n",
    "train_classification_report = classification_report(train_true_labels, train_predicted_labels)\n",
    "validation_classification_report = classification_report(validation_true_labels, validation_predicted_labels)\n",
    "test_classification_report = classification_report(test_true_labels, test_predicted_labels)\n",
    "\n",
    "print(\"\\nTrain Classification Report:\")\n",
    "print(train_classification_report)\n",
    "print(\"\\nValidation Classification Report:\")\n",
    "print(validation_classification_report)\n",
    "print(\"\\nTest Classification Report:\")\n",
    "print(test_classification_report)\n",
    "\n",
    "model.save(\"drowsiness_detection_model.h5\")"
   ],
   "metadata": {
    "collapsed": false,
    "ExecuteTime": {
     "end_time": "2023-11-04T19:05:38.515665Z",
     "start_time": "2023-11-04T19:05:33.134426Z"
    }
   },
   "id": "f54743c5989ba5ad"
  },
  {
   "cell_type": "code",
   "execution_count": 9,
   "outputs": [],
   "source": [],
   "metadata": {
    "collapsed": false,
    "ExecuteTime": {
     "end_time": "2023-11-04T19:05:38.517551Z",
     "start_time": "2023-11-04T19:05:38.515995Z"
    }
   },
   "id": "3abcfca8603e596a"
  },
  {
   "cell_type": "code",
   "execution_count": null,
   "outputs": [],
   "source": [],
   "metadata": {
    "collapsed": false
   },
   "id": "833889441fe498f4"
  }
 ],
 "metadata": {
  "kernelspec": {
   "display_name": "Python 3",
   "language": "python",
   "name": "python3"
  },
  "language_info": {
   "codemirror_mode": {
    "name": "ipython",
    "version": 2
   },
   "file_extension": ".py",
   "mimetype": "text/x-python",
   "name": "python",
   "nbconvert_exporter": "python",
   "pygments_lexer": "ipython2",
   "version": "2.7.6"
  }
 },
 "nbformat": 4,
 "nbformat_minor": 5
}
