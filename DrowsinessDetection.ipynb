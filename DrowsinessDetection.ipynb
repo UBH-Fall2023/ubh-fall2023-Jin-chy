{
 "cells": [
  {
   "cell_type": "code",
   "execution_count": 271,
   "id": "initial_id",
   "metadata": {
    "collapsed": true,
    "ExecuteTime": {
     "end_time": "2023-11-05T00:27:05.195102Z",
     "start_time": "2023-11-05T00:27:05.190064Z"
    }
   },
   "outputs": [],
   "source": [
    "import tensorflow as tf\n",
    "from tensorflow import keras\n",
    "from keras.preprocessing.image import ImageDataGenerator\n",
    "from sklearn.metrics import precision_score, recall_score\n",
    "from sklearn.metrics import confusion_matrix, classification_report\n",
    "from keras.optimizers.legacy import Adam\n",
    "import os"
   ]
  },
  {
   "cell_type": "code",
   "execution_count": 271,
   "outputs": [],
   "source": [],
   "metadata": {
    "collapsed": false,
    "ExecuteTime": {
     "end_time": "2023-11-05T00:27:05.457297Z",
     "start_time": "2023-11-05T00:27:05.439706Z"
    }
   }
  },
  {
   "cell_type": "code",
   "execution_count": 272,
   "outputs": [],
   "source": [
    "train_data_dir = \"./data/train\"\n",
    "test_data_dir = \"./data/test\"\n",
    "\n",
    "image_size = (224, 224)\n",
    "batch_size = 32\n",
    "\n",
    "train_datagen = ImageDataGenerator(\n",
    "    rescale=1.0 / 255.0,\n",
    "    rotation_range=15,\n",
    "    width_shift_range=0.1,\n",
    "    height_shift_range=0.1,\n",
    "    horizontal_flip=True,\n",
    "    zoom_range=0.1,\n",
    "    validation_split=0.2\n",
    ")"
   ],
   "metadata": {
    "collapsed": false,
    "ExecuteTime": {
     "end_time": "2023-11-05T00:27:05.914482Z",
     "start_time": "2023-11-05T00:27:05.896593Z"
    }
   }
  },
  {
   "cell_type": "code",
   "execution_count": 272,
   "outputs": [],
   "source": [],
   "metadata": {
    "collapsed": false,
    "ExecuteTime": {
     "end_time": "2023-11-05T00:27:06.117889Z",
     "start_time": "2023-11-05T00:27:06.109178Z"
    }
   }
  },
  {
   "cell_type": "code",
   "execution_count": 273,
   "outputs": [
    {
     "name": "stdout",
     "output_type": "stream",
     "text": [
      "Found 168 images belonging to 2 classes.\n"
     ]
    }
   ],
   "source": [
    "train_generator = train_datagen.flow_from_directory(\n",
    "    train_data_dir,\n",
    "    target_size=image_size,\n",
    "    batch_size=batch_size,\n",
    "    class_mode='categorical',\n",
    "    subset='training',\n",
    "    shuffle=True\n",
    ")"
   ],
   "metadata": {
    "collapsed": false,
    "ExecuteTime": {
     "end_time": "2023-11-05T00:27:06.890195Z",
     "start_time": "2023-11-05T00:27:06.867742Z"
    }
   },
   "id": "6decff868951fe33"
  },
  {
   "cell_type": "code",
   "execution_count": 274,
   "outputs": [
    {
     "name": "stdout",
     "output_type": "stream",
     "text": [
      "Found 41 images belonging to 2 classes.\n"
     ]
    }
   ],
   "source": [
    "validation_generator = train_datagen.flow_from_directory(\n",
    "    train_data_dir,\n",
    "    target_size=image_size,\n",
    "    batch_size=batch_size,\n",
    "    class_mode='categorical',\n",
    "    subset='validation',\n",
    "    shuffle=True\n",
    ")"
   ],
   "metadata": {
    "collapsed": false,
    "ExecuteTime": {
     "end_time": "2023-11-05T00:27:07.362854Z",
     "start_time": "2023-11-05T00:27:07.350176Z"
    }
   },
   "id": "1199bf88f9fbee20"
  },
  {
   "cell_type": "code",
   "execution_count": 289,
   "outputs": [],
   "source": [
    "def calculate_metrics(y_true, y_pred):\n",
    "    precision = precision_score(y_true, y_pred, average='weighted')\n",
    "    recall = recall_score(y_true, y_pred, average='weighted')\n",
    "    return precision, recall\n",
    "\n",
    "\n",
    "model = keras.Sequential([\n",
    "    keras.layers.Conv2D(32, (3, 3), activation='relu', input_shape=(224, 224, 3)),\n",
    "    keras.layers.MaxPooling2D(2, 2),\n",
    "    keras.layers.Conv2D(32, (3, 3), activation='relu'),\n",
    "    keras.layers.MaxPooling2D(2, 2),\n",
    "    keras.layers.Flatten(),\n",
    "    keras.layers.Dense(128, activation='relu'),\n",
    "    keras.layers.Dense(2, activation='softmax')\n",
    "])\n",
    "model.compile(optimizer='adam', loss='binary_crossentropy', metrics=['accuracy'])\n"
   ],
   "metadata": {
    "collapsed": false,
    "ExecuteTime": {
     "end_time": "2023-11-05T00:30:00.144964Z",
     "start_time": "2023-11-05T00:30:00.071680Z"
    }
   },
   "id": "81deec15a6f2175f"
  },
  {
   "cell_type": "code",
   "execution_count": 290,
   "outputs": [],
   "source": [
    "train_losses = []\n",
    "train_accuracies = []\n",
    "val_losses = []\n",
    "val_accuracies = []\n",
    "\n",
    "class MetricsCallback(keras.callbacks.Callback):\n",
    "    def on_epoch_end(self, epoch, logs=None):\n",
    "        print(\n",
    "            f'Epoch {epoch + 1} | Train Loss: {logs[\"loss\"]:.4f}  - Train Accuracy: {logs[\"accuracy\"]:.4f} | Validation Loss: {logs[\"val_loss\"]:.4f} - Validation Accuracy: {logs[\"val_accuracy\"]:.4f} ')\n",
    "        train_losses.append(logs['loss'])\n",
    "        train_accuracies.append(logs['accuracy'])\n",
    "        val_losses.append(logs['val_loss'])\n",
    "        val_accuracies.append(logs['val_accuracy'])\n",
    "\n",
    "metrics_callback = MetricsCallback()\n"
   ],
   "metadata": {
    "collapsed": false,
    "ExecuteTime": {
     "end_time": "2023-11-05T00:30:01.078918Z",
     "start_time": "2023-11-05T00:30:01.069493Z"
    }
   },
   "id": "5104cef5f1618626"
  },
  {
   "cell_type": "code",
   "execution_count": 291,
   "outputs": [
    {
     "name": "stdout",
     "output_type": "stream",
     "text": [
      "Epoch 1/10\n",
      "5/5 [==============================] - ETA: 0s - loss: 0.4446 - accuracy: 0.8000Epoch 1 | Train Loss: 0.4446  - Train Accuracy: 0.8000 | Validation Loss: 0.1159 - Validation Accuracy: 1.0000 \n",
      "5/5 [==============================] - 4s 649ms/step - loss: 0.4446 - accuracy: 0.8000 - val_loss: 0.1159 - val_accuracy: 1.0000\n",
      "Epoch 2/10\n",
      "5/5 [==============================] - ETA: 0s - loss: 0.0680 - accuracy: 1.0000Epoch 2 | Train Loss: 0.0680  - Train Accuracy: 1.0000 | Validation Loss: 0.0182 - Validation Accuracy: 1.0000 \n",
      "5/5 [==============================] - 2s 485ms/step - loss: 0.0680 - accuracy: 1.0000 - val_loss: 0.0182 - val_accuracy: 1.0000\n",
      "Epoch 3/10\n",
      "5/5 [==============================] - ETA: 0s - loss: 0.0069 - accuracy: 1.0000Epoch 3 | Train Loss: 0.0069  - Train Accuracy: 1.0000 | Validation Loss: 0.0015 - Validation Accuracy: 1.0000 \n",
      "5/5 [==============================] - 3s 550ms/step - loss: 0.0069 - accuracy: 1.0000 - val_loss: 0.0015 - val_accuracy: 1.0000\n",
      "Epoch 4/10\n",
      "5/5 [==============================] - ETA: 0s - loss: 0.0049 - accuracy: 1.0000Epoch 4 | Train Loss: 0.0049  - Train Accuracy: 1.0000 | Validation Loss: 0.0004 - Validation Accuracy: 1.0000 \n",
      "5/5 [==============================] - 2s 448ms/step - loss: 0.0049 - accuracy: 1.0000 - val_loss: 4.3288e-04 - val_accuracy: 1.0000\n",
      "Epoch 5/10\n",
      "5/5 [==============================] - ETA: 0s - loss: 7.7246e-04 - accuracy: 1.0000Epoch 5 | Train Loss: 0.0008  - Train Accuracy: 1.0000 | Validation Loss: 0.0003 - Validation Accuracy: 1.0000 \n",
      "5/5 [==============================] - 2s 447ms/step - loss: 7.7246e-04 - accuracy: 1.0000 - val_loss: 2.9333e-04 - val_accuracy: 1.0000\n",
      "Epoch 6/10\n",
      "5/5 [==============================] - ETA: 0s - loss: 0.0019 - accuracy: 1.0000Epoch 6 | Train Loss: 0.0019  - Train Accuracy: 1.0000 | Validation Loss: 0.0003 - Validation Accuracy: 1.0000 \n",
      "5/5 [==============================] - 3s 518ms/step - loss: 0.0019 - accuracy: 1.0000 - val_loss: 3.3019e-04 - val_accuracy: 1.0000\n",
      "Epoch 7/10\n",
      "5/5 [==============================] - ETA: 0s - loss: 2.6721e-04 - accuracy: 1.0000Epoch 7 | Train Loss: 0.0003  - Train Accuracy: 1.0000 | Validation Loss: 0.0002 - Validation Accuracy: 1.0000 \n",
      "5/5 [==============================] - 2s 485ms/step - loss: 2.6721e-04 - accuracy: 1.0000 - val_loss: 2.2843e-04 - val_accuracy: 1.0000\n",
      "Epoch 8/10\n",
      "5/5 [==============================] - ETA: 0s - loss: 2.4668e-04 - accuracy: 1.0000Epoch 8 | Train Loss: 0.0002  - Train Accuracy: 1.0000 | Validation Loss: 0.0002 - Validation Accuracy: 1.0000 \n",
      "5/5 [==============================] - 3s 502ms/step - loss: 2.4668e-04 - accuracy: 1.0000 - val_loss: 2.2853e-04 - val_accuracy: 1.0000\n",
      "Epoch 9/10\n",
      "5/5 [==============================] - ETA: 0s - loss: 1.9897e-04 - accuracy: 1.0000Epoch 9 | Train Loss: 0.0002  - Train Accuracy: 1.0000 | Validation Loss: 0.0002 - Validation Accuracy: 1.0000 \n",
      "5/5 [==============================] - 2s 484ms/step - loss: 1.9897e-04 - accuracy: 1.0000 - val_loss: 2.3915e-04 - val_accuracy: 1.0000\n",
      "Epoch 10/10\n",
      "5/5 [==============================] - ETA: 0s - loss: 1.5252e-04 - accuracy: 1.0000Epoch 10 | Train Loss: 0.0002  - Train Accuracy: 1.0000 | Validation Loss: 0.0001 - Validation Accuracy: 1.0000 \n",
      "5/5 [==============================] - 3s 575ms/step - loss: 1.5252e-04 - accuracy: 1.0000 - val_loss: 1.4427e-04 - val_accuracy: 1.0000\n"
     ]
    }
   ],
   "source": [
    "history= model.fit(\n",
    "    train_generator,\n",
    "    steps_per_epoch=train_generator.samples // batch_size,\n",
    "    epochs=10,\n",
    "    validation_data=validation_generator,\n",
    "    validation_steps=validation_generator.samples // batch_size,\n",
    "    callbacks=[metrics_callback]\n",
    ")"
   ],
   "metadata": {
    "collapsed": false,
    "ExecuteTime": {
     "end_time": "2023-11-05T00:30:28.141181Z",
     "start_time": "2023-11-05T00:30:01.738740Z"
    }
   },
   "id": "e71b11fafd24a914"
  },
  {
   "cell_type": "code",
   "execution_count": 292,
   "outputs": [
    {
     "name": "stdout",
     "output_type": "stream",
     "text": [
      "Average Training Loss: 0.0528\n",
      "Average Training Accuracy: 0.9800\n",
      "Average Validation Loss: 0.0138\n",
      "Average Validation Accuracy: 1.0000\n"
     ]
    }
   ],
   "source": [
    "avg_train_loss = sum(train_losses) / len(train_losses)\n",
    "avg_train_accuracy = sum(train_accuracies) / len(train_accuracies)\n",
    "avg_val_loss = sum(val_losses) / len(val_losses)\n",
    "avg_val_accuracy = sum(val_accuracies) / len(val_accuracies)\n",
    "\n",
    "print(f'Average Training Loss: {avg_train_loss:.4f}')\n",
    "print(f'Average Training Accuracy: {avg_train_accuracy:.4f}')\n",
    "print(f'Average Validation Loss: {avg_val_loss:.4f}')\n",
    "print(f'Average Validation Accuracy: {avg_val_accuracy:.4f}')"
   ],
   "metadata": {
    "collapsed": false,
    "ExecuteTime": {
     "end_time": "2023-11-05T00:30:29.218180Z",
     "start_time": "2023-11-05T00:30:29.210940Z"
    }
   }
  },
  {
   "cell_type": "code",
   "execution_count": 293,
   "outputs": [
    {
     "name": "stderr",
     "output_type": "stream",
     "text": [
      "/Users/mohith/anaconda3/lib/python3.11/site-packages/keras/src/engine/training.py:3000: UserWarning: You are saving your model as an HDF5 file via `model.save()`. This file format is considered legacy. We recommend using instead the native Keras format, e.g. `model.save('my_model.keras')`.\n",
      "  saving_api.save_model(\n"
     ]
    }
   ],
   "source": [
    "model.save(\"drowsiness_detection_model.h5\")"
   ],
   "metadata": {
    "collapsed": false,
    "ExecuteTime": {
     "end_time": "2023-11-05T00:30:30.463684Z",
     "start_time": "2023-11-05T00:30:30.126429Z"
    }
   }
  },
  {
   "cell_type": "code",
   "execution_count": 294,
   "outputs": [
    {
     "name": "stdout",
     "output_type": "stream",
     "text": [
      "Found 133 images belonging to 2 classes.\n"
     ]
    }
   ],
   "source": [
    "test_datagen = ImageDataGenerator(rescale=1.0 / 255.0)\n",
    "test_generator = test_datagen.flow_from_directory(\n",
    "    test_data_dir,\n",
    "    target_size=image_size,\n",
    "    batch_size=batch_size,\n",
    "    class_mode='categorical'\n",
    ")"
   ],
   "metadata": {
    "collapsed": false,
    "ExecuteTime": {
     "end_time": "2023-11-05T00:30:30.521822Z",
     "start_time": "2023-11-05T00:30:30.507101Z"
    }
   }
  },
  {
   "cell_type": "code",
   "execution_count": 295,
   "outputs": [
    {
     "name": "stdout",
     "output_type": "stream",
     "text": [
      "5/5 [==============================] - 1s 86ms/step\n",
      "Image 1 - True Label: DROWSY, Predicted Label: NOT DROWSY,  Confidence Drowsy: 0.00, Confidence Not Drowsy: 1.00\n",
      "Image 2 - True Label: DROWSY, Predicted Label: NOT DROWSY,  Confidence Drowsy: 0.00, Confidence Not Drowsy: 1.00\n",
      "Image 3 - True Label: DROWSY, Predicted Label: NOT DROWSY,  Confidence Drowsy: 0.00, Confidence Not Drowsy: 1.00\n",
      "Image 4 - True Label: DROWSY, Predicted Label: NOT DROWSY,  Confidence Drowsy: 0.01, Confidence Not Drowsy: 0.99\n",
      "Image 5 - True Label: DROWSY, Predicted Label: NOT DROWSY,  Confidence Drowsy: 0.00, Confidence Not Drowsy: 1.00\n",
      "Image 6 - True Label: DROWSY, Predicted Label: NOT DROWSY,  Confidence Drowsy: 0.00, Confidence Not Drowsy: 1.00\n",
      "Image 7 - True Label: DROWSY, Predicted Label: NOT DROWSY,  Confidence Drowsy: 0.00, Confidence Not Drowsy: 1.00\n",
      "Image 8 - True Label: DROWSY, Predicted Label: NOT DROWSY,  Confidence Drowsy: 0.00, Confidence Not Drowsy: 1.00\n",
      "Image 9 - True Label: DROWSY, Predicted Label: NOT DROWSY,  Confidence Drowsy: 0.00, Confidence Not Drowsy: 1.00\n",
      "Image 10 - True Label: DROWSY, Predicted Label: NOT DROWSY,  Confidence Drowsy: 0.00, Confidence Not Drowsy: 1.00\n",
      "Image 11 - True Label: DROWSY, Predicted Label: NOT DROWSY,  Confidence Drowsy: 0.00, Confidence Not Drowsy: 1.00\n",
      "Image 12 - True Label: DROWSY, Predicted Label: NOT DROWSY,  Confidence Drowsy: 0.00, Confidence Not Drowsy: 1.00\n",
      "Image 13 - True Label: DROWSY, Predicted Label: NOT DROWSY,  Confidence Drowsy: 0.00, Confidence Not Drowsy: 1.00\n",
      "Image 14 - True Label: DROWSY, Predicted Label: NOT DROWSY,  Confidence Drowsy: 0.00, Confidence Not Drowsy: 1.00\n",
      "Image 15 - True Label: DROWSY, Predicted Label: NOT DROWSY,  Confidence Drowsy: 0.00, Confidence Not Drowsy: 1.00\n",
      "Image 16 - True Label: DROWSY, Predicted Label: NOT DROWSY,  Confidence Drowsy: 0.00, Confidence Not Drowsy: 1.00\n",
      "Image 17 - True Label: DROWSY, Predicted Label: NOT DROWSY,  Confidence Drowsy: 0.00, Confidence Not Drowsy: 1.00\n",
      "Image 18 - True Label: DROWSY, Predicted Label: NOT DROWSY,  Confidence Drowsy: 0.00, Confidence Not Drowsy: 1.00\n",
      "Image 19 - True Label: DROWSY, Predicted Label: NOT DROWSY,  Confidence Drowsy: 0.01, Confidence Not Drowsy: 0.99\n",
      "Image 20 - True Label: DROWSY, Predicted Label: NOT DROWSY,  Confidence Drowsy: 0.00, Confidence Not Drowsy: 1.00\n",
      "Image 21 - True Label: DROWSY, Predicted Label: NOT DROWSY,  Confidence Drowsy: 0.00, Confidence Not Drowsy: 1.00\n",
      "Image 22 - True Label: DROWSY, Predicted Label: NOT DROWSY,  Confidence Drowsy: 0.00, Confidence Not Drowsy: 1.00\n",
      "Image 23 - True Label: DROWSY, Predicted Label: NOT DROWSY,  Confidence Drowsy: 0.00, Confidence Not Drowsy: 1.00\n",
      "Image 24 - True Label: DROWSY, Predicted Label: NOT DROWSY,  Confidence Drowsy: 0.01, Confidence Not Drowsy: 0.99\n",
      "Image 25 - True Label: DROWSY, Predicted Label: NOT DROWSY,  Confidence Drowsy: 0.00, Confidence Not Drowsy: 1.00\n",
      "Image 26 - True Label: DROWSY, Predicted Label: NOT DROWSY,  Confidence Drowsy: 0.00, Confidence Not Drowsy: 1.00\n",
      "Image 27 - True Label: DROWSY, Predicted Label: NOT DROWSY,  Confidence Drowsy: 0.00, Confidence Not Drowsy: 1.00\n",
      "Image 28 - True Label: DROWSY, Predicted Label: NOT DROWSY,  Confidence Drowsy: 0.00, Confidence Not Drowsy: 1.00\n",
      "Image 29 - True Label: DROWSY, Predicted Label: NOT DROWSY,  Confidence Drowsy: 0.00, Confidence Not Drowsy: 1.00\n",
      "Image 30 - True Label: DROWSY, Predicted Label: NOT DROWSY,  Confidence Drowsy: 0.00, Confidence Not Drowsy: 1.00\n",
      "Image 31 - True Label: DROWSY, Predicted Label: NOT DROWSY,  Confidence Drowsy: 0.00, Confidence Not Drowsy: 1.00\n",
      "Image 32 - True Label: DROWSY, Predicted Label: NOT DROWSY,  Confidence Drowsy: 0.00, Confidence Not Drowsy: 1.00\n",
      "Image 33 - True Label: DROWSY, Predicted Label: NOT DROWSY,  Confidence Drowsy: 0.00, Confidence Not Drowsy: 1.00\n",
      "Image 34 - True Label: DROWSY, Predicted Label: NOT DROWSY,  Confidence Drowsy: 0.00, Confidence Not Drowsy: 1.00\n",
      "Image 35 - True Label: NOT DROWSY, Predicted Label: NOT DROWSY,  Confidence Drowsy: 0.00, Confidence Not Drowsy: 1.00\n",
      "Image 36 - True Label: NOT DROWSY, Predicted Label: NOT DROWSY,  Confidence Drowsy: 0.00, Confidence Not Drowsy: 1.00\n",
      "Image 37 - True Label: NOT DROWSY, Predicted Label: NOT DROWSY,  Confidence Drowsy: 0.00, Confidence Not Drowsy: 1.00\n",
      "Image 38 - True Label: NOT DROWSY, Predicted Label: NOT DROWSY,  Confidence Drowsy: 0.00, Confidence Not Drowsy: 1.00\n",
      "Image 39 - True Label: NOT DROWSY, Predicted Label: NOT DROWSY,  Confidence Drowsy: 0.00, Confidence Not Drowsy: 1.00\n",
      "Image 40 - True Label: NOT DROWSY, Predicted Label: NOT DROWSY,  Confidence Drowsy: 0.00, Confidence Not Drowsy: 1.00\n",
      "Image 41 - True Label: NOT DROWSY, Predicted Label: NOT DROWSY,  Confidence Drowsy: 0.00, Confidence Not Drowsy: 1.00\n",
      "Image 42 - True Label: NOT DROWSY, Predicted Label: NOT DROWSY,  Confidence Drowsy: 0.00, Confidence Not Drowsy: 1.00\n",
      "Image 43 - True Label: NOT DROWSY, Predicted Label: NOT DROWSY,  Confidence Drowsy: 0.00, Confidence Not Drowsy: 1.00\n",
      "Image 44 - True Label: NOT DROWSY, Predicted Label: NOT DROWSY,  Confidence Drowsy: 0.00, Confidence Not Drowsy: 1.00\n",
      "Image 45 - True Label: NOT DROWSY, Predicted Label: NOT DROWSY,  Confidence Drowsy: 0.00, Confidence Not Drowsy: 1.00\n",
      "Image 46 - True Label: NOT DROWSY, Predicted Label: NOT DROWSY,  Confidence Drowsy: 0.00, Confidence Not Drowsy: 1.00\n",
      "Image 47 - True Label: NOT DROWSY, Predicted Label: NOT DROWSY,  Confidence Drowsy: 0.00, Confidence Not Drowsy: 1.00\n",
      "Image 48 - True Label: NOT DROWSY, Predicted Label: NOT DROWSY,  Confidence Drowsy: 0.00, Confidence Not Drowsy: 1.00\n",
      "Image 49 - True Label: NOT DROWSY, Predicted Label: NOT DROWSY,  Confidence Drowsy: 0.00, Confidence Not Drowsy: 1.00\n",
      "Image 50 - True Label: NOT DROWSY, Predicted Label: NOT DROWSY,  Confidence Drowsy: 0.00, Confidence Not Drowsy: 1.00\n",
      "Image 51 - True Label: NOT DROWSY, Predicted Label: NOT DROWSY,  Confidence Drowsy: 0.00, Confidence Not Drowsy: 1.00\n",
      "Image 52 - True Label: NOT DROWSY, Predicted Label: NOT DROWSY,  Confidence Drowsy: 0.00, Confidence Not Drowsy: 1.00\n",
      "Image 53 - True Label: NOT DROWSY, Predicted Label: NOT DROWSY,  Confidence Drowsy: 0.00, Confidence Not Drowsy: 1.00\n",
      "Image 54 - True Label: NOT DROWSY, Predicted Label: NOT DROWSY,  Confidence Drowsy: 0.00, Confidence Not Drowsy: 1.00\n",
      "Image 55 - True Label: NOT DROWSY, Predicted Label: NOT DROWSY,  Confidence Drowsy: 0.00, Confidence Not Drowsy: 1.00\n",
      "Image 56 - True Label: NOT DROWSY, Predicted Label: NOT DROWSY,  Confidence Drowsy: 0.00, Confidence Not Drowsy: 1.00\n",
      "Image 57 - True Label: NOT DROWSY, Predicted Label: NOT DROWSY,  Confidence Drowsy: 0.00, Confidence Not Drowsy: 1.00\n",
      "Image 58 - True Label: NOT DROWSY, Predicted Label: NOT DROWSY,  Confidence Drowsy: 0.00, Confidence Not Drowsy: 1.00\n",
      "Image 59 - True Label: NOT DROWSY, Predicted Label: NOT DROWSY,  Confidence Drowsy: 0.00, Confidence Not Drowsy: 1.00\n",
      "Image 60 - True Label: NOT DROWSY, Predicted Label: NOT DROWSY,  Confidence Drowsy: 0.00, Confidence Not Drowsy: 1.00\n",
      "Image 61 - True Label: NOT DROWSY, Predicted Label: NOT DROWSY,  Confidence Drowsy: 0.00, Confidence Not Drowsy: 1.00\n",
      "Image 62 - True Label: NOT DROWSY, Predicted Label: NOT DROWSY,  Confidence Drowsy: 0.00, Confidence Not Drowsy: 1.00\n",
      "Image 63 - True Label: NOT DROWSY, Predicted Label: NOT DROWSY,  Confidence Drowsy: 0.00, Confidence Not Drowsy: 1.00\n",
      "Image 64 - True Label: NOT DROWSY, Predicted Label: NOT DROWSY,  Confidence Drowsy: 0.00, Confidence Not Drowsy: 1.00\n",
      "Image 65 - True Label: NOT DROWSY, Predicted Label: NOT DROWSY,  Confidence Drowsy: 0.00, Confidence Not Drowsy: 1.00\n",
      "Image 66 - True Label: NOT DROWSY, Predicted Label: NOT DROWSY,  Confidence Drowsy: 0.00, Confidence Not Drowsy: 1.00\n",
      "Image 67 - True Label: NOT DROWSY, Predicted Label: NOT DROWSY,  Confidence Drowsy: 0.00, Confidence Not Drowsy: 1.00\n",
      "Image 68 - True Label: NOT DROWSY, Predicted Label: NOT DROWSY,  Confidence Drowsy: 0.00, Confidence Not Drowsy: 1.00\n",
      "Image 69 - True Label: NOT DROWSY, Predicted Label: NOT DROWSY,  Confidence Drowsy: 0.00, Confidence Not Drowsy: 1.00\n",
      "Image 70 - True Label: NOT DROWSY, Predicted Label: NOT DROWSY,  Confidence Drowsy: 0.00, Confidence Not Drowsy: 1.00\n",
      "Image 71 - True Label: NOT DROWSY, Predicted Label: NOT DROWSY,  Confidence Drowsy: 0.00, Confidence Not Drowsy: 1.00\n",
      "Image 72 - True Label: NOT DROWSY, Predicted Label: NOT DROWSY,  Confidence Drowsy: 0.00, Confidence Not Drowsy: 1.00\n",
      "Image 73 - True Label: NOT DROWSY, Predicted Label: NOT DROWSY,  Confidence Drowsy: 0.00, Confidence Not Drowsy: 1.00\n",
      "Image 74 - True Label: NOT DROWSY, Predicted Label: NOT DROWSY,  Confidence Drowsy: 0.00, Confidence Not Drowsy: 1.00\n",
      "Image 75 - True Label: NOT DROWSY, Predicted Label: NOT DROWSY,  Confidence Drowsy: 0.00, Confidence Not Drowsy: 1.00\n",
      "Image 76 - True Label: NOT DROWSY, Predicted Label: NOT DROWSY,  Confidence Drowsy: 0.00, Confidence Not Drowsy: 1.00\n",
      "Image 77 - True Label: NOT DROWSY, Predicted Label: NOT DROWSY,  Confidence Drowsy: 0.00, Confidence Not Drowsy: 1.00\n",
      "Image 78 - True Label: NOT DROWSY, Predicted Label: NOT DROWSY,  Confidence Drowsy: 0.00, Confidence Not Drowsy: 1.00\n",
      "Image 79 - True Label: NOT DROWSY, Predicted Label: NOT DROWSY,  Confidence Drowsy: 0.00, Confidence Not Drowsy: 1.00\n",
      "Image 80 - True Label: NOT DROWSY, Predicted Label: NOT DROWSY,  Confidence Drowsy: 0.00, Confidence Not Drowsy: 1.00\n",
      "Image 81 - True Label: NOT DROWSY, Predicted Label: NOT DROWSY,  Confidence Drowsy: 0.00, Confidence Not Drowsy: 1.00\n",
      "Image 82 - True Label: NOT DROWSY, Predicted Label: NOT DROWSY,  Confidence Drowsy: 0.00, Confidence Not Drowsy: 1.00\n",
      "Image 83 - True Label: NOT DROWSY, Predicted Label: NOT DROWSY,  Confidence Drowsy: 0.01, Confidence Not Drowsy: 0.99\n",
      "Image 84 - True Label: NOT DROWSY, Predicted Label: NOT DROWSY,  Confidence Drowsy: 0.00, Confidence Not Drowsy: 1.00\n",
      "Image 85 - True Label: NOT DROWSY, Predicted Label: NOT DROWSY,  Confidence Drowsy: 0.00, Confidence Not Drowsy: 1.00\n",
      "Image 86 - True Label: NOT DROWSY, Predicted Label: NOT DROWSY,  Confidence Drowsy: 0.00, Confidence Not Drowsy: 1.00\n",
      "Image 87 - True Label: NOT DROWSY, Predicted Label: NOT DROWSY,  Confidence Drowsy: 0.00, Confidence Not Drowsy: 1.00\n",
      "Image 88 - True Label: NOT DROWSY, Predicted Label: NOT DROWSY,  Confidence Drowsy: 0.00, Confidence Not Drowsy: 1.00\n",
      "Image 89 - True Label: NOT DROWSY, Predicted Label: NOT DROWSY,  Confidence Drowsy: 0.00, Confidence Not Drowsy: 1.00\n",
      "Image 90 - True Label: NOT DROWSY, Predicted Label: NOT DROWSY,  Confidence Drowsy: 0.00, Confidence Not Drowsy: 1.00\n",
      "Image 91 - True Label: NOT DROWSY, Predicted Label: NOT DROWSY,  Confidence Drowsy: 0.00, Confidence Not Drowsy: 1.00\n",
      "Image 92 - True Label: NOT DROWSY, Predicted Label: NOT DROWSY,  Confidence Drowsy: 0.00, Confidence Not Drowsy: 1.00\n",
      "Image 93 - True Label: NOT DROWSY, Predicted Label: NOT DROWSY,  Confidence Drowsy: 0.00, Confidence Not Drowsy: 1.00\n",
      "Image 94 - True Label: NOT DROWSY, Predicted Label: NOT DROWSY,  Confidence Drowsy: 0.00, Confidence Not Drowsy: 1.00\n",
      "Image 95 - True Label: NOT DROWSY, Predicted Label: NOT DROWSY,  Confidence Drowsy: 0.00, Confidence Not Drowsy: 1.00\n",
      "Image 96 - True Label: NOT DROWSY, Predicted Label: NOT DROWSY,  Confidence Drowsy: 0.00, Confidence Not Drowsy: 1.00\n",
      "Image 97 - True Label: NOT DROWSY, Predicted Label: NOT DROWSY,  Confidence Drowsy: 0.00, Confidence Not Drowsy: 1.00\n",
      "Image 98 - True Label: NOT DROWSY, Predicted Label: NOT DROWSY,  Confidence Drowsy: 0.00, Confidence Not Drowsy: 1.00\n",
      "Image 99 - True Label: NOT DROWSY, Predicted Label: NOT DROWSY,  Confidence Drowsy: 0.00, Confidence Not Drowsy: 1.00\n",
      "Image 100 - True Label: NOT DROWSY, Predicted Label: NOT DROWSY,  Confidence Drowsy: 0.00, Confidence Not Drowsy: 1.00\n",
      "Image 101 - True Label: NOT DROWSY, Predicted Label: NOT DROWSY,  Confidence Drowsy: 0.00, Confidence Not Drowsy: 1.00\n",
      "Image 102 - True Label: NOT DROWSY, Predicted Label: NOT DROWSY,  Confidence Drowsy: 0.01, Confidence Not Drowsy: 0.99\n",
      "Image 103 - True Label: NOT DROWSY, Predicted Label: NOT DROWSY,  Confidence Drowsy: 0.00, Confidence Not Drowsy: 1.00\n",
      "Image 104 - True Label: NOT DROWSY, Predicted Label: NOT DROWSY,  Confidence Drowsy: 0.00, Confidence Not Drowsy: 1.00\n",
      "Image 105 - True Label: NOT DROWSY, Predicted Label: NOT DROWSY,  Confidence Drowsy: 0.00, Confidence Not Drowsy: 1.00\n",
      "Image 106 - True Label: NOT DROWSY, Predicted Label: NOT DROWSY,  Confidence Drowsy: 0.00, Confidence Not Drowsy: 1.00\n",
      "Image 107 - True Label: NOT DROWSY, Predicted Label: NOT DROWSY,  Confidence Drowsy: 0.00, Confidence Not Drowsy: 1.00\n",
      "Image 108 - True Label: NOT DROWSY, Predicted Label: NOT DROWSY,  Confidence Drowsy: 0.00, Confidence Not Drowsy: 1.00\n",
      "Image 109 - True Label: NOT DROWSY, Predicted Label: NOT DROWSY,  Confidence Drowsy: 0.00, Confidence Not Drowsy: 1.00\n",
      "Image 110 - True Label: NOT DROWSY, Predicted Label: NOT DROWSY,  Confidence Drowsy: 0.00, Confidence Not Drowsy: 1.00\n",
      "Image 111 - True Label: NOT DROWSY, Predicted Label: NOT DROWSY,  Confidence Drowsy: 0.00, Confidence Not Drowsy: 1.00\n",
      "Image 112 - True Label: NOT DROWSY, Predicted Label: NOT DROWSY,  Confidence Drowsy: 0.00, Confidence Not Drowsy: 1.00\n",
      "Image 113 - True Label: NOT DROWSY, Predicted Label: NOT DROWSY,  Confidence Drowsy: 0.00, Confidence Not Drowsy: 1.00\n",
      "Image 114 - True Label: NOT DROWSY, Predicted Label: NOT DROWSY,  Confidence Drowsy: 0.01, Confidence Not Drowsy: 0.99\n",
      "Image 115 - True Label: NOT DROWSY, Predicted Label: NOT DROWSY,  Confidence Drowsy: 0.00, Confidence Not Drowsy: 1.00\n",
      "Image 116 - True Label: NOT DROWSY, Predicted Label: NOT DROWSY,  Confidence Drowsy: 0.00, Confidence Not Drowsy: 1.00\n",
      "Image 117 - True Label: NOT DROWSY, Predicted Label: NOT DROWSY,  Confidence Drowsy: 0.00, Confidence Not Drowsy: 1.00\n",
      "Image 118 - True Label: NOT DROWSY, Predicted Label: NOT DROWSY,  Confidence Drowsy: 0.00, Confidence Not Drowsy: 1.00\n",
      "Image 119 - True Label: NOT DROWSY, Predicted Label: NOT DROWSY,  Confidence Drowsy: 0.00, Confidence Not Drowsy: 1.00\n",
      "Image 120 - True Label: NOT DROWSY, Predicted Label: NOT DROWSY,  Confidence Drowsy: 0.00, Confidence Not Drowsy: 1.00\n",
      "Image 121 - True Label: NOT DROWSY, Predicted Label: NOT DROWSY,  Confidence Drowsy: 0.00, Confidence Not Drowsy: 1.00\n",
      "Image 122 - True Label: NOT DROWSY, Predicted Label: NOT DROWSY,  Confidence Drowsy: 0.00, Confidence Not Drowsy: 1.00\n",
      "Image 123 - True Label: NOT DROWSY, Predicted Label: NOT DROWSY,  Confidence Drowsy: 0.00, Confidence Not Drowsy: 1.00\n",
      "Image 124 - True Label: NOT DROWSY, Predicted Label: NOT DROWSY,  Confidence Drowsy: 0.00, Confidence Not Drowsy: 1.00\n",
      "Image 125 - True Label: NOT DROWSY, Predicted Label: NOT DROWSY,  Confidence Drowsy: 0.00, Confidence Not Drowsy: 1.00\n",
      "Image 126 - True Label: NOT DROWSY, Predicted Label: NOT DROWSY,  Confidence Drowsy: 0.00, Confidence Not Drowsy: 1.00\n",
      "Image 127 - True Label: NOT DROWSY, Predicted Label: NOT DROWSY,  Confidence Drowsy: 0.00, Confidence Not Drowsy: 1.00\n",
      "Image 128 - True Label: NOT DROWSY, Predicted Label: NOT DROWSY,  Confidence Drowsy: 0.00, Confidence Not Drowsy: 1.00\n",
      "Image 129 - True Label: NOT DROWSY, Predicted Label: NOT DROWSY,  Confidence Drowsy: 0.00, Confidence Not Drowsy: 1.00\n",
      "Image 130 - True Label: NOT DROWSY, Predicted Label: NOT DROWSY,  Confidence Drowsy: 0.01, Confidence Not Drowsy: 0.99\n",
      "Image 131 - True Label: NOT DROWSY, Predicted Label: NOT DROWSY,  Confidence Drowsy: 0.00, Confidence Not Drowsy: 1.00\n",
      "Image 132 - True Label: NOT DROWSY, Predicted Label: NOT DROWSY,  Confidence Drowsy: 0.00, Confidence Not Drowsy: 1.00\n",
      "Image 133 - True Label: NOT DROWSY, Predicted Label: NOT DROWSY,  Confidence Drowsy: 0.00, Confidence Not Drowsy: 1.00\n",
      "\n",
      "Test Confusion Matrix:\n",
      "[[ 0 34]\n",
      " [ 0 99]]\n",
      "\n",
      "Test Classification Report:\n",
      "              precision    recall  f1-score   support\n",
      "\n",
      "           0       0.00      0.00      0.00        34\n",
      "           1       0.74      1.00      0.85        99\n",
      "\n",
      "    accuracy                           0.74       133\n",
      "   macro avg       0.37      0.50      0.43       133\n",
      "weighted avg       0.55      0.74      0.64       133\n",
      "\n",
      "Test Accuracy: 0.7444\n",
      "Test Loss: 2.3259\n",
      "Test Precision: 0.7443609022556391\n",
      "Test Recall: 1.0\n"
     ]
    },
    {
     "name": "stderr",
     "output_type": "stream",
     "text": [
      "/Users/mohith/anaconda3/lib/python3.11/site-packages/sklearn/metrics/_classification.py:1469: UndefinedMetricWarning: Precision and F-score are ill-defined and being set to 0.0 in labels with no predicted samples. Use `zero_division` parameter to control this behavior.\n",
      "  _warn_prf(average, modifier, msg_start, len(result))\n",
      "/Users/mohith/anaconda3/lib/python3.11/site-packages/sklearn/metrics/_classification.py:1469: UndefinedMetricWarning: Precision and F-score are ill-defined and being set to 0.0 in labels with no predicted samples. Use `zero_division` parameter to control this behavior.\n",
      "  _warn_prf(average, modifier, msg_start, len(result))\n",
      "/Users/mohith/anaconda3/lib/python3.11/site-packages/sklearn/metrics/_classification.py:1469: UndefinedMetricWarning: Precision and F-score are ill-defined and being set to 0.0 in labels with no predicted samples. Use `zero_division` parameter to control this behavior.\n",
      "  _warn_prf(average, modifier, msg_start, len(result))\n"
     ]
    }
   ],
   "source": [
    "from sklearn.metrics import log_loss\n",
    "true_labels = test_generator.classes\n",
    "predictions = model.predict(test_generator)\n",
    "\n",
    "for i, (prediction, true_label) in enumerate(zip(predictions, true_labels)):\n",
    "    confidence_drowsy = prediction[0]\n",
    "    confidence_not_drowsy = prediction[1]\n",
    "    predicted_label = \"DROWSY\" if confidence_drowsy >= confidence_not_drowsy else \"NOT DROWSY\"\n",
    "    label = \"DROWSY\" if true_label == 0 else \"NOT DROWSY\"\n",
    "    print(\n",
    "        f\"Image {i + 1} - True Label: {label}, Predicted Label: {predicted_label},  Confidence Drowsy: {confidence_drowsy:.2f}, Confidence Not Drowsy: {confidence_not_drowsy:.2f}\")\n",
    "\n",
    "predicted_labels = predictions.argmax(axis=-1)\n",
    "correct_predictions = (predicted_labels == true_labels)\n",
    "accuracy = correct_predictions.sum() / len(true_labels)\n",
    "\n",
    "\n",
    "test_classification_report = classification_report(true_labels, predicted_labels)\n",
    "test_confusion_matrix = confusion_matrix(true_labels, predicted_labels)\n",
    "\n",
    "true_positives = test_confusion_matrix[1, 1]  # The count of true positives\n",
    "false_positives = test_confusion_matrix[0, 1]  # The count of false positives\n",
    "false_negatives = test_confusion_matrix[1, 0]  # The count of false negatives\n",
    "\n",
    "precision = true_positives / (true_positives + false_positives)\n",
    "recall = true_positives / (true_positives + false_negatives)\n",
    "\n",
    "\n",
    "print(\"\\nTest Confusion Matrix:\")\n",
    "print(test_confusion_matrix)\n",
    "\n",
    "print(\"\\nTest Classification Report:\")\n",
    "print(test_classification_report)\n",
    "\n",
    "# Print the accuracy\n",
    "print(f\"Test Accuracy: {accuracy:.4f}\")\n",
    "test_loss = log_loss(true_labels, predictions)\n",
    "print(f\"Test Loss: {test_loss:.4f}\")\n",
    "\n",
    "print(\"Test Precision:\", precision)\n",
    "print(\"Test Recall:\", recall)\n"
   ],
   "metadata": {
    "collapsed": false,
    "ExecuteTime": {
     "end_time": "2023-11-05T00:30:32.352217Z",
     "start_time": "2023-11-05T00:30:31.721916Z"
    }
   },
   "id": "c589e6d0a333cf2d"
  },
  {
   "cell_type": "code",
   "execution_count": 245,
   "outputs": [],
   "source": [],
   "metadata": {
    "collapsed": false,
    "ExecuteTime": {
     "end_time": "2023-11-05T00:18:06.202307Z",
     "start_time": "2023-11-05T00:18:06.201352Z"
    }
   }
  },
  {
   "cell_type": "code",
   "execution_count": 245,
   "outputs": [],
   "source": [],
   "metadata": {
    "collapsed": false,
    "ExecuteTime": {
     "end_time": "2023-11-05T00:18:06.202399Z",
     "start_time": "2023-11-05T00:18:06.201795Z"
    }
   }
  },
  {
   "cell_type": "code",
   "execution_count": 245,
   "outputs": [],
   "source": [],
   "metadata": {
    "collapsed": false,
    "ExecuteTime": {
     "end_time": "2023-11-05T00:18:06.202466Z",
     "start_time": "2023-11-05T00:18:06.201959Z"
    }
   }
  }
 ],
 "metadata": {
  "kernelspec": {
   "display_name": "Python 3",
   "language": "python",
   "name": "python3"
  },
  "language_info": {
   "codemirror_mode": {
    "name": "ipython",
    "version": 2
   },
   "file_extension": ".py",
   "mimetype": "text/x-python",
   "name": "python",
   "nbconvert_exporter": "python",
   "pygments_lexer": "ipython2",
   "version": "2.7.6"
  }
 },
 "nbformat": 4,
 "nbformat_minor": 5
}
